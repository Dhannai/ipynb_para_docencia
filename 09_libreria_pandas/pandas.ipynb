{
 "cells": [
  {
   "cell_type": "markdown",
   "metadata": {
    "slideshow": {
     "slide_type": "slide"
    }
   },
   "source": [
    "<img src=\"images/utfsm.png\" alt=\"\" width=\"200px\" align=\"right\"/>\n",
    "# USM Numérica\n",
    "## Libraría Pandas\n",
    "### Objetivos\n",
    "1. Conocer los principales comandos de la libería pandas\n",
    "2. Utilizar pandas para limpieza y manipulación de datos."
   ]
  },
  {
   "cell_type": "markdown",
   "metadata": {
    "slideshow": {
     "slide_type": "slide"
    }
   },
   "source": [
    "## 0.1 Instrucciones\n",
    "Las instrucciones de instalación y uso de un ipython notebook se encuentran en el siguiente [link](link).\n",
    "\n",
    "Después de descargar y abrir el presente notebook, recuerden:\n",
    "* Desarrollar los problemas de manera secuencial.\n",
    "* Guardar constantemente con *`Ctr-S`* para evitar sorpresas.\n",
    "* Reemplazar en las celdas de código donde diga *`FIX_ME`* por el código correspondiente.\n",
    "* Ejecutar cada celda de código utilizando *`Ctr-Enter`*\n",
    "\n",
    "## 0.2 Licenciamiento y Configuración\n",
    "Ejecutar la siguiente celda mediante *`Ctr-Enter`*."
   ]
  },
  {
   "cell_type": "code",
   "execution_count": 216,
   "metadata": {
    "collapsed": false
   },
   "outputs": [
    {
     "data": {
      "text/html": [
       "<style>\n",
       "\n",
       "/*********************************************\n",
       " * CHANGE CURSIVE FOR RED\n",
       " *********************************************/\n",
       "em {font-style: normal !important;\n",
       "    color: #800000;}\n",
       "\n",
       "</style>\n"
      ],
      "text/plain": [
       "<IPython.core.display.HTML object>"
      ]
     },
     "execution_count": 216,
     "metadata": {},
     "output_type": "execute_result"
    }
   ],
   "source": [
    "\"\"\"\n",
    "IPython Notebook v4.0 para python 3.0\n",
    "Librerías adicionales: numpy, scipy, matplotlib. (EDITAR EN FUNCION DEL NOTEBOOK!!!)\n",
    "Contenido bajo licencia CC-BY 4.0. Código bajo licencia MIT. \n",
    "(c) Sebastian Flores, Christopher Cooper, Alberto Rubio, Pablo Bunout.\n",
    "\"\"\"\n",
    "# Configuración para recargar módulos y librerías dinámicamente\n",
    "%reload_ext autoreload\n",
    "%autoreload 2\n",
    "\n",
    "# Configuración para graficos en línea\n",
    "%matplotlib inline\n",
    "\n",
    "# Configuración de estilo\n",
    "from IPython.core.display import HTML\n",
    "HTML(open(\"./style/style.css\", \"r\").read())"
   ]
  },
  {
   "cell_type": "markdown",
   "metadata": {},
   "source": [
    "## Aprender haciendo\n",
    "\n",
    "Consideraremos el siguiente archivo `data.csv` que contiene datos incompletos:"
   ]
  },
  {
   "cell_type": "code",
   "execution_count": 217,
   "metadata": {
    "collapsed": false
   },
   "outputs": [
    {
     "name": "stdout",
     "output_type": "stream",
     "text": [
      "diametro;altura;volumen;tipo_de_arbol\n",
      "11.2;75;19.9;Cherrie Tree\n",
      "11.3;79;24.2;Cherry Tree\n",
      "11.4;76;21.0;Cherry Tree\n",
      "11.4;76;21.4;Apple Tree\n",
      "13.7;71;25.7;Cherry Tree\n",
      "13.8;64;24.9;Cherry Tree\n",
      "14.0;78;34.5;Cherrie Tree\n",
      "14.2;80;31.7;Cherry Tree\n",
      ";74;36.3;Apple Tree\n",
      "16.0;72;38.3;Cherry Tree\n",
      "16.3;77;42.6;Cherry Tree\n",
      "17.3;81;55.4;Apple Tree\n",
      "17.5;;55.7;Cherry Tree\n",
      "17.9;80;58.3;Cherry Tree\n",
      "18.0;80;51.5;Cherry Tree\n",
      "18.0;;51.0;\n",
      "20.6;;;Cherry Tree\n"
     ]
    }
   ],
   "source": [
    "%%bash\n",
    "cat data/data.csv"
   ]
  },
  {
   "cell_type": "markdown",
   "metadata": {},
   "source": [
    "## 1.- ¿Porqué utilizar pandas?\n",
    "\n",
    "**Razón oficial**:\n",
    "Porque en numpy no es posible mezclar tipos de datos, lo cual complica cargar, usar, limpiar y guardar datos mixtos.\n",
    "\n",
    "**Razón personal**:\n",
    "Porque habían cosas que en R eran más fáciles pero no pythonísticas. pandas es un excelente compromiso. "
   ]
  },
  {
   "cell_type": "code",
   "execution_count": 218,
   "metadata": {
    "collapsed": false
   },
   "outputs": [
    {
     "name": "stdout",
     "output_type": "stream",
     "text": [
      "[['diametro' 'altura' 'volumen' 'tipo_de_arbol']\n",
      " ['11.2' '75' '19.9' 'Cherrie Tree']\n",
      " ['11.3' '79' '24.2' 'Cherry Tree']\n",
      " ['11.4' '76' '21.0' 'Cherry Tree']\n",
      " ['11.4' '76' '21.4' 'Apple Tree']\n",
      " ['13.7' '71' '25.7' 'Cherry Tree']\n",
      " ['13.8' '64' '24.9' 'Cherry Tree']\n",
      " ['14.0' '78' '34.5' 'Cherrie Tree']\n",
      " ['14.2' '80' '31.7' 'Cherry Tree']\n",
      " ['' '74' '36.3' 'Apple Tree']\n",
      " ['16.0' '72' '38.3' 'Cherry Tree']\n",
      " ['16.3' '77' '42.6' 'Cherry Tree']\n",
      " ['17.3' '81' '55.4' 'Apple Tree']\n",
      " ['17.5' '' '55.7' 'Cherry Tree']\n",
      " ['17.9' '80' '58.3' 'Cherry Tree']\n",
      " ['18.0' '80' '51.5' 'Cherry Tree']\n",
      " ['18.0' '' '51.0' '']\n",
      " ['20.6' '' '' 'Cherry Tree']]\n"
     ]
    }
   ],
   "source": [
    "import numpy as np\n",
    "df = np.loadtxt(\"data/data.csv\", delimiter=\";\", dtype=str)\n",
    "print df"
   ]
  },
  {
   "cell_type": "code",
   "execution_count": 229,
   "metadata": {
    "collapsed": false
   },
   "outputs": [
    {
     "data": {
      "text/html": [
       "<div>\n",
       "<table border=\"1\" class=\"dataframe\">\n",
       "  <thead>\n",
       "    <tr style=\"text-align: right;\">\n",
       "      <th></th>\n",
       "      <th>diametro</th>\n",
       "      <th>altura</th>\n",
       "      <th>volumen</th>\n",
       "      <th>tipo_de_arbol</th>\n",
       "    </tr>\n",
       "  </thead>\n",
       "  <tbody>\n",
       "    <tr>\n",
       "      <th>0</th>\n",
       "      <td>11.2</td>\n",
       "      <td>75</td>\n",
       "      <td>19.9</td>\n",
       "      <td>Cherrie Tree</td>\n",
       "    </tr>\n",
       "    <tr>\n",
       "      <th>1</th>\n",
       "      <td>11.3</td>\n",
       "      <td>79</td>\n",
       "      <td>24.2</td>\n",
       "      <td>Cherry Tree</td>\n",
       "    </tr>\n",
       "    <tr>\n",
       "      <th>2</th>\n",
       "      <td>11.4</td>\n",
       "      <td>76</td>\n",
       "      <td>21.0</td>\n",
       "      <td>Cherry Tree</td>\n",
       "    </tr>\n",
       "    <tr>\n",
       "      <th>3</th>\n",
       "      <td>11.4</td>\n",
       "      <td>76</td>\n",
       "      <td>21.4</td>\n",
       "      <td>Apple Tree</td>\n",
       "    </tr>\n",
       "    <tr>\n",
       "      <th>4</th>\n",
       "      <td>13.7</td>\n",
       "      <td>71</td>\n",
       "      <td>25.7</td>\n",
       "      <td>Cherry Tree</td>\n",
       "    </tr>\n",
       "    <tr>\n",
       "      <th>5</th>\n",
       "      <td>13.8</td>\n",
       "      <td>64</td>\n",
       "      <td>24.9</td>\n",
       "      <td>Cherry Tree</td>\n",
       "    </tr>\n",
       "    <tr>\n",
       "      <th>6</th>\n",
       "      <td>14.0</td>\n",
       "      <td>78</td>\n",
       "      <td>34.5</td>\n",
       "      <td>Cherrie Tree</td>\n",
       "    </tr>\n",
       "    <tr>\n",
       "      <th>7</th>\n",
       "      <td>14.2</td>\n",
       "      <td>80</td>\n",
       "      <td>31.7</td>\n",
       "      <td>Cherry Tree</td>\n",
       "    </tr>\n",
       "    <tr>\n",
       "      <th>8</th>\n",
       "      <td>NaN</td>\n",
       "      <td>74</td>\n",
       "      <td>36.3</td>\n",
       "      <td>Apple Tree</td>\n",
       "    </tr>\n",
       "    <tr>\n",
       "      <th>9</th>\n",
       "      <td>16.0</td>\n",
       "      <td>72</td>\n",
       "      <td>38.3</td>\n",
       "      <td>Cherry Tree</td>\n",
       "    </tr>\n",
       "    <tr>\n",
       "      <th>10</th>\n",
       "      <td>16.3</td>\n",
       "      <td>77</td>\n",
       "      <td>42.6</td>\n",
       "      <td>Cherry Tree</td>\n",
       "    </tr>\n",
       "    <tr>\n",
       "      <th>11</th>\n",
       "      <td>17.3</td>\n",
       "      <td>81</td>\n",
       "      <td>55.4</td>\n",
       "      <td>Apple Tree</td>\n",
       "    </tr>\n",
       "    <tr>\n",
       "      <th>12</th>\n",
       "      <td>17.5</td>\n",
       "      <td>NaN</td>\n",
       "      <td>55.7</td>\n",
       "      <td>Cherry Tree</td>\n",
       "    </tr>\n",
       "    <tr>\n",
       "      <th>13</th>\n",
       "      <td>17.9</td>\n",
       "      <td>80</td>\n",
       "      <td>58.3</td>\n",
       "      <td>Cherry Tree</td>\n",
       "    </tr>\n",
       "    <tr>\n",
       "      <th>14</th>\n",
       "      <td>18.0</td>\n",
       "      <td>80</td>\n",
       "      <td>51.5</td>\n",
       "      <td>Cherry Tree</td>\n",
       "    </tr>\n",
       "    <tr>\n",
       "      <th>15</th>\n",
       "      <td>18.0</td>\n",
       "      <td>NaN</td>\n",
       "      <td>51.0</td>\n",
       "      <td>NaN</td>\n",
       "    </tr>\n",
       "    <tr>\n",
       "      <th>16</th>\n",
       "      <td>20.6</td>\n",
       "      <td>NaN</td>\n",
       "      <td>NaN</td>\n",
       "      <td>Cherry Tree</td>\n",
       "    </tr>\n",
       "  </tbody>\n",
       "</table>\n",
       "</div>"
      ],
      "text/plain": [
       "    diametro  altura  volumen tipo_de_arbol\n",
       "0       11.2      75     19.9  Cherrie Tree\n",
       "1       11.3      79     24.2   Cherry Tree\n",
       "2       11.4      76     21.0   Cherry Tree\n",
       "3       11.4      76     21.4    Apple Tree\n",
       "4       13.7      71     25.7   Cherry Tree\n",
       "5       13.8      64     24.9   Cherry Tree\n",
       "6       14.0      78     34.5  Cherrie Tree\n",
       "7       14.2      80     31.7   Cherry Tree\n",
       "8        NaN      74     36.3    Apple Tree\n",
       "9       16.0      72     38.3   Cherry Tree\n",
       "10      16.3      77     42.6   Cherry Tree\n",
       "11      17.3      81     55.4    Apple Tree\n",
       "12      17.5     NaN     55.7   Cherry Tree\n",
       "13      17.9      80     58.3   Cherry Tree\n",
       "14      18.0      80     51.5   Cherry Tree\n",
       "15      18.0     NaN     51.0           NaN\n",
       "16      20.6     NaN      NaN   Cherry Tree"
      ]
     },
     "execution_count": 229,
     "metadata": {},
     "output_type": "execute_result"
    }
   ],
   "source": [
    "import pandas as pd\n",
    "df = pd.read_csv(\"data/data.csv\", sep=\";\")\n",
    "df"
   ]
  },
  {
   "cell_type": "code",
   "execution_count": 220,
   "metadata": {
    "collapsed": false
   },
   "outputs": [
    {
     "name": "stdout",
     "output_type": "stream",
     "text": [
      "0     17.817732\n",
      "1     12.918572\n",
      "2     16.797551\n",
      "3     16.175474\n",
      "4     15.131936\n",
      "5     14.743504\n",
      "6      9.633270\n",
      "7     12.039527\n",
      "8           NaN\n",
      "9      9.424020\n",
      "10     8.454891\n",
      "11     5.924053\n",
      "12          NaN\n",
      "13     5.656141\n",
      "14     7.329626\n",
      "15          NaN\n",
      "16          NaN\n",
      "dtype: float64\n"
     ]
    }
   ],
   "source": [
    "#print df.columns\n",
    "#print df.index\n",
    "#print df[\"altura\"]*2\n",
    "print (3./4) * df[\"altura\"]*df[\"diametro\"]**2 / df.volumen **2"
   ]
  },
  {
   "cell_type": "markdown",
   "metadata": {},
   "source": [
    "## 2. Lo básico de pandas\n",
    "* Pandas imita los dataframes de R, pero en python. Todo lo que no tiene sentido es porque se parece demasiado a R.\n",
    "* Pandas permite tener datos como en tablas de excel: datos en una columna pueden ser mixtos.\n",
    "* La idea central es que la indexación es \"a medida\": las columnas y las filas (index) pueden ser enteros o floats, pero también pueden ser strings. Depende de lo que tenga sentido.\n",
    "* Los elementos básicos de pandas son:\n",
    " * Series: Conjunto de valores con indexación variable.\n",
    " * DataFrames: Conjunto de Series"
   ]
  },
  {
   "cell_type": "markdown",
   "metadata": {},
   "source": [
    "### 2.1 Series\n",
    "Una serie es un conveniente conjunto de datos, como una columna de datos de excel, pero con indexación más genérica.\n",
    "\n",
    "```\n",
    "pd.Series(self, data=None, index=None, dtype=None, name=None, copy=False, fastpath=False)\n",
    "```"
   ]
  },
  {
   "cell_type": "code",
   "execution_count": 221,
   "metadata": {
    "collapsed": false
   },
   "outputs": [
    {
     "name": "stdout",
     "output_type": "stream",
     "text": [
      "0     False\n",
      "1         1\n",
      "2         2\n",
      "3         3\n",
      "4    (4+0j)\n",
      "dtype: object\n"
     ]
    }
   ],
   "source": [
    "import pandas as pd\n",
    "s1 = pd.Series([False, 1, 2., \"3\", 4 + 0j])\n",
    "print s1"
   ]
  },
  {
   "cell_type": "code",
   "execution_count": 222,
   "metadata": {
    "collapsed": false
   },
   "outputs": [
    {
     "name": "stdout",
     "output_type": "stream",
     "text": [
      "[False, 1, 2.0, '3', (4+0j)]\n",
      "set([False, 1, 2.0, (4+0j), '3'])\n",
      "[False 1 2.0 '3' (4+0j)]\n"
     ]
    }
   ],
   "source": [
    "# Casting a otros tipos\n",
    "print list(s1)\n",
    "print set(s1)\n",
    "print np.array(s1)"
   ]
  },
  {
   "cell_type": "code",
   "execution_count": 223,
   "metadata": {
    "collapsed": false
   },
   "outputs": [],
   "source": [
    "# Ejemplo de operatoria\n",
    "s0 = pd.Series(range(6), index=range(6))\n",
    "s1 = pd.Series([1,2,3], index=[1,2,3])\n",
    "s2 = pd.Series([4,5,6], index=[4,5,6])\n",
    "s3 = pd.Series([10,10,10], index=[1,4,6])"
   ]
  },
  {
   "cell_type": "code",
   "execution_count": 224,
   "metadata": {
    "collapsed": false
   },
   "outputs": [
    {
     "name": "stdout",
     "output_type": "stream",
     "text": [
      "0   NaN\n",
      "1     2\n",
      "2     4\n",
      "3     6\n",
      "4   NaN\n",
      "5   NaN\n",
      "dtype: float64\n",
      "0   NaN\n",
      "1   NaN\n",
      "2   NaN\n",
      "3   NaN\n",
      "4   NaN\n",
      "5   NaN\n",
      "6   NaN\n",
      "dtype: float64\n"
     ]
    }
   ],
   "source": [
    "print s0 + s1\n",
    "print s0 + s1 + s2"
   ]
  },
  {
   "cell_type": "code",
   "execution_count": 225,
   "metadata": {
    "collapsed": false
   },
   "outputs": [
    {
     "name": "stdout",
     "output_type": "stream",
     "text": [
      "0    0\n",
      "1    2\n",
      "2    4\n",
      "3    6\n",
      "4    4\n",
      "5    5\n",
      "dtype: float64\n"
     ]
    }
   ],
   "source": [
    "print s0.add(s1, fill_value=0)"
   ]
  },
  {
   "cell_type": "markdown",
   "metadata": {},
   "source": [
    "### 2.2 DataFrames\n",
    "\n",
    "Un Dataframe es una colección de Series con una indexación común. Pensar en una planilla de excel."
   ]
  },
  {
   "cell_type": "markdown",
   "metadata": {},
   "source": [
    "## 3.1 Obteniendo datos\n",
    "  1. **Manualmente**: dict, items, \n",
    "  2. **Archivo csv**: local o http.\n",
    "  3. **Archivo json**: local o http.\n",
    "  4. **Archivo de excel**: convertir a csv cuidadosamente (elegir un separador apropiado, no comentar strings).\n"
   ]
  },
  {
   "cell_type": "code",
   "execution_count": 226,
   "metadata": {
    "collapsed": true
   },
   "outputs": [],
   "source": [
    "# A mano"
   ]
  },
  {
   "cell_type": "code",
   "execution_count": 227,
   "metadata": {
    "collapsed": false
   },
   "outputs": [
    {
     "data": {
      "text/html": [
       "<div>\n",
       "<table border=\"1\" class=\"dataframe\">\n",
       "  <thead>\n",
       "    <tr style=\"text-align: right;\">\n",
       "      <th></th>\n",
       "      <th>diametro</th>\n",
       "      <th>altura</th>\n",
       "      <th>volumen</th>\n",
       "      <th>tipo_de_arbol</th>\n",
       "    </tr>\n",
       "  </thead>\n",
       "  <tbody>\n",
       "    <tr>\n",
       "      <th>0</th>\n",
       "      <td>11.2</td>\n",
       "      <td>75</td>\n",
       "      <td>19.9</td>\n",
       "      <td>Cherrie Tree</td>\n",
       "    </tr>\n",
       "    <tr>\n",
       "      <th>1</th>\n",
       "      <td>11.3</td>\n",
       "      <td>79</td>\n",
       "      <td>24.2</td>\n",
       "      <td>Cherry Tree</td>\n",
       "    </tr>\n",
       "    <tr>\n",
       "      <th>2</th>\n",
       "      <td>11.4</td>\n",
       "      <td>76</td>\n",
       "      <td>21.0</td>\n",
       "      <td>Cherry Tree</td>\n",
       "    </tr>\n",
       "    <tr>\n",
       "      <th>3</th>\n",
       "      <td>11.4</td>\n",
       "      <td>76</td>\n",
       "      <td>21.4</td>\n",
       "      <td>Apple Tree</td>\n",
       "    </tr>\n",
       "    <tr>\n",
       "      <th>4</th>\n",
       "      <td>13.7</td>\n",
       "      <td>71</td>\n",
       "      <td>25.7</td>\n",
       "      <td>Cherry Tree</td>\n",
       "    </tr>\n",
       "    <tr>\n",
       "      <th>5</th>\n",
       "      <td>13.8</td>\n",
       "      <td>64</td>\n",
       "      <td>24.9</td>\n",
       "      <td>Cherry Tree</td>\n",
       "    </tr>\n",
       "    <tr>\n",
       "      <th>6</th>\n",
       "      <td>14.0</td>\n",
       "      <td>78</td>\n",
       "      <td>34.5</td>\n",
       "      <td>Cherrie Tree</td>\n",
       "    </tr>\n",
       "    <tr>\n",
       "      <th>7</th>\n",
       "      <td>14.2</td>\n",
       "      <td>80</td>\n",
       "      <td>31.7</td>\n",
       "      <td>Cherry Tree</td>\n",
       "    </tr>\n",
       "    <tr>\n",
       "      <th>8</th>\n",
       "      <td>NaN</td>\n",
       "      <td>74</td>\n",
       "      <td>36.3</td>\n",
       "      <td>Apple Tree</td>\n",
       "    </tr>\n",
       "    <tr>\n",
       "      <th>9</th>\n",
       "      <td>16.0</td>\n",
       "      <td>72</td>\n",
       "      <td>38.3</td>\n",
       "      <td>Cherry Tree</td>\n",
       "    </tr>\n",
       "    <tr>\n",
       "      <th>10</th>\n",
       "      <td>16.3</td>\n",
       "      <td>77</td>\n",
       "      <td>42.6</td>\n",
       "      <td>Cherry Tree</td>\n",
       "    </tr>\n",
       "    <tr>\n",
       "      <th>11</th>\n",
       "      <td>17.3</td>\n",
       "      <td>81</td>\n",
       "      <td>55.4</td>\n",
       "      <td>Apple Tree</td>\n",
       "    </tr>\n",
       "    <tr>\n",
       "      <th>12</th>\n",
       "      <td>17.5</td>\n",
       "      <td>NaN</td>\n",
       "      <td>55.7</td>\n",
       "      <td>Cherry Tree</td>\n",
       "    </tr>\n",
       "    <tr>\n",
       "      <th>13</th>\n",
       "      <td>17.9</td>\n",
       "      <td>80</td>\n",
       "      <td>58.3</td>\n",
       "      <td>Cherry Tree</td>\n",
       "    </tr>\n",
       "    <tr>\n",
       "      <th>14</th>\n",
       "      <td>18.0</td>\n",
       "      <td>80</td>\n",
       "      <td>51.5</td>\n",
       "      <td>Cherry Tree</td>\n",
       "    </tr>\n",
       "    <tr>\n",
       "      <th>15</th>\n",
       "      <td>18.0</td>\n",
       "      <td>NaN</td>\n",
       "      <td>51.0</td>\n",
       "      <td>NaN</td>\n",
       "    </tr>\n",
       "    <tr>\n",
       "      <th>16</th>\n",
       "      <td>20.6</td>\n",
       "      <td>NaN</td>\n",
       "      <td>NaN</td>\n",
       "      <td>Cherry Tree</td>\n",
       "    </tr>\n",
       "  </tbody>\n",
       "</table>\n",
       "</div>"
      ],
      "text/plain": [
       "    diametro  altura  volumen tipo_de_arbol\n",
       "0       11.2      75     19.9  Cherrie Tree\n",
       "1       11.3      79     24.2   Cherry Tree\n",
       "2       11.4      76     21.0   Cherry Tree\n",
       "3       11.4      76     21.4    Apple Tree\n",
       "4       13.7      71     25.7   Cherry Tree\n",
       "5       13.8      64     24.9   Cherry Tree\n",
       "6       14.0      78     34.5  Cherrie Tree\n",
       "7       14.2      80     31.7   Cherry Tree\n",
       "8        NaN      74     36.3    Apple Tree\n",
       "9       16.0      72     38.3   Cherry Tree\n",
       "10      16.3      77     42.6   Cherry Tree\n",
       "11      17.3      81     55.4    Apple Tree\n",
       "12      17.5     NaN     55.7   Cherry Tree\n",
       "13      17.9      80     58.3   Cherry Tree\n",
       "14      18.0      80     51.5   Cherry Tree\n",
       "15      18.0     NaN     51.0           NaN\n",
       "16      20.6     NaN      NaN   Cherry Tree"
      ]
     },
     "execution_count": 227,
     "metadata": {},
     "output_type": "execute_result"
    }
   ],
   "source": [
    "# Csv\n",
    "df = pd.read_csv(\"data/data.csv\", sep=\";\")\n",
    "df"
   ]
  },
  {
   "cell_type": "code",
   "execution_count": 231,
   "metadata": {
    "collapsed": false
   },
   "outputs": [
    {
     "data": {
      "text/html": [
       "<div>\n",
       "<table border=\"1\" class=\"dataframe\">\n",
       "  <thead>\n",
       "    <tr style=\"text-align: right;\">\n",
       "      <th></th>\n",
       "      <th>altura</th>\n",
       "      <th>diametro</th>\n",
       "      <th>tipo_de_arbol</th>\n",
       "      <th>volumen</th>\n",
       "    </tr>\n",
       "  </thead>\n",
       "  <tbody>\n",
       "    <tr>\n",
       "      <th>1</th>\n",
       "      <td>79</td>\n",
       "      <td>11.3</td>\n",
       "      <td>Cherry Tree</td>\n",
       "      <td>24.2</td>\n",
       "    </tr>\n",
       "    <tr>\n",
       "      <th>10</th>\n",
       "      <td>77</td>\n",
       "      <td>16.3</td>\n",
       "      <td>Cherry Tree</td>\n",
       "      <td>42.6</td>\n",
       "    </tr>\n",
       "    <tr>\n",
       "      <th>12</th>\n",
       "      <td>NaN</td>\n",
       "      <td>17.5</td>\n",
       "      <td>Cherry Tree</td>\n",
       "      <td>55.7</td>\n",
       "    </tr>\n",
       "    <tr>\n",
       "      <th>13</th>\n",
       "      <td>80</td>\n",
       "      <td>17.9</td>\n",
       "      <td>Cherry Tree</td>\n",
       "      <td>58.3</td>\n",
       "    </tr>\n",
       "    <tr>\n",
       "      <th>14</th>\n",
       "      <td>80</td>\n",
       "      <td>18.0</td>\n",
       "      <td>Cherry Tree</td>\n",
       "      <td>51.5</td>\n",
       "    </tr>\n",
       "    <tr>\n",
       "      <th>16</th>\n",
       "      <td>NaN</td>\n",
       "      <td>20.6</td>\n",
       "      <td>Cherry Tree</td>\n",
       "      <td>NaN</td>\n",
       "    </tr>\n",
       "    <tr>\n",
       "      <th>2</th>\n",
       "      <td>76</td>\n",
       "      <td>11.4</td>\n",
       "      <td>Cherry Tree</td>\n",
       "      <td>21.0</td>\n",
       "    </tr>\n",
       "    <tr>\n",
       "      <th>4</th>\n",
       "      <td>71</td>\n",
       "      <td>13.7</td>\n",
       "      <td>Cherry Tree</td>\n",
       "      <td>25.7</td>\n",
       "    </tr>\n",
       "    <tr>\n",
       "      <th>5</th>\n",
       "      <td>64</td>\n",
       "      <td>13.8</td>\n",
       "      <td>Cherry Tree</td>\n",
       "      <td>24.9</td>\n",
       "    </tr>\n",
       "    <tr>\n",
       "      <th>7</th>\n",
       "      <td>80</td>\n",
       "      <td>14.2</td>\n",
       "      <td>Cherry Tree</td>\n",
       "      <td>31.7</td>\n",
       "    </tr>\n",
       "    <tr>\n",
       "      <th>9</th>\n",
       "      <td>72</td>\n",
       "      <td>16.0</td>\n",
       "      <td>Cherry Tree</td>\n",
       "      <td>38.3</td>\n",
       "    </tr>\n",
       "  </tbody>\n",
       "</table>\n",
       "</div>"
      ],
      "text/plain": [
       "    altura  diametro tipo_de_arbol  volumen\n",
       "1       79      11.3   Cherry Tree     24.2\n",
       "10      77      16.3   Cherry Tree     42.6\n",
       "12     NaN      17.5   Cherry Tree     55.7\n",
       "13      80      17.9   Cherry Tree     58.3\n",
       "14      80      18.0   Cherry Tree     51.5\n",
       "16     NaN      20.6   Cherry Tree      NaN\n",
       "2       76      11.4   Cherry Tree     21.0\n",
       "4       71      13.7   Cherry Tree     25.7\n",
       "5       64      13.8   Cherry Tree     24.9\n",
       "7       80      14.2   Cherry Tree     31.7\n",
       "9       72      16.0   Cherry Tree     38.3"
      ]
     },
     "execution_count": 231,
     "metadata": {},
     "output_type": "execute_result"
    }
   ],
   "source": [
    "df = pd.read_json(\"data/data.json\")\n",
    "df"
   ]
  },
  {
   "cell_type": "markdown",
   "metadata": {},
   "source": [
    "## 4.- Inspeccionando datos\n",
    " 1. shape\n",
    " 1. head, tail, describe\n",
    " 1. histogram\n",
    " 1. pd.scatter_matrix\n",
    " 1. count_values"
   ]
  },
  {
   "cell_type": "code",
   "execution_count": null,
   "metadata": {
    "collapsed": false
   },
   "outputs": [],
   "source": [
    "df.shape"
   ]
  },
  {
   "cell_type": "code",
   "execution_count": null,
   "metadata": {
    "collapsed": false
   },
   "outputs": [],
   "source": [
    "df.head()"
   ]
  },
  {
   "cell_type": "code",
   "execution_count": null,
   "metadata": {
    "collapsed": false
   },
   "outputs": [],
   "source": [
    "df.tail()"
   ]
  },
  {
   "cell_type": "code",
   "execution_count": null,
   "metadata": {
    "collapsed": false
   },
   "outputs": [],
   "source": [
    "df.describe()"
   ]
  },
  {
   "cell_type": "code",
   "execution_count": null,
   "metadata": {
    "collapsed": false
   },
   "outputs": [],
   "source": [
    "from matplotlib import pyplot as plt\n",
    "df.hist(figsize=(8,8), layout=(3,1))\n",
    "#df.hist(figsize=(8,8), layout=(3,1), by=\"tipo_de_arbol\")\n",
    "plt.show()"
   ]
  },
  {
   "cell_type": "code",
   "execution_count": null,
   "metadata": {
    "collapsed": false
   },
   "outputs": [],
   "source": [
    "from matplotlib import pyplot as plt\n",
    "pd.scatter_matrix(df, figsize=(8,8), range_padding=0.2)\n",
    "plt.show()"
   ]
  },
  {
   "cell_type": "code",
   "execution_count": null,
   "metadata": {
    "collapsed": false
   },
   "outputs": [],
   "source": [
    "df.tipo_de_arbol.value_counts()"
   ]
  },
  {
   "cell_type": "markdown",
   "metadata": {},
   "source": [
    "## 5.- Manipulando DataFrames\n",
    "   1. Agregando columnas\n",
    "   2. Borrando columnas\n",
    "   3. Agregando filas\n",
    "   4. Borrando filas\n",
    "   5. Mask\n",
    "   6. Grouping\n",
    "   7. Imputación de datos\n",
    "   8. Apply\n",
    "   9. Merge (a la SQL)\n",
    "   10. Accesamiento"
   ]
  },
  {
   "cell_type": "markdown",
   "metadata": {},
   "source": [
    "### 5.1 Agregando columnas"
   ]
  },
  {
   "cell_type": "code",
   "execution_count": null,
   "metadata": {
    "collapsed": false
   },
   "outputs": [],
   "source": [
    "df = pd.read_csv(\"data/data.csv\", sep=\";\")\n",
    "df[\"radio\"] = .5 * df.diametro\n",
    "df.area = np.pi * df.radio **2"
   ]
  },
  {
   "cell_type": "code",
   "execution_count": null,
   "metadata": {
    "collapsed": false
   },
   "outputs": [],
   "source": [
    "df"
   ]
  },
  {
   "cell_type": "markdown",
   "metadata": {},
   "source": [
    "### 5.2 Renombrando columnas"
   ]
  },
  {
   "cell_type": "code",
   "execution_count": null,
   "metadata": {
    "collapsed": false
   },
   "outputs": [],
   "source": [
    "print df.columns\n",
    "df.columns = [\"RaDiO\",\"AlTuRa\",\"VoLuMeN\",\"TiPo_De_ArBoL\"]"
   ]
  },
  {
   "cell_type": "code",
   "execution_count": null,
   "metadata": {
    "collapsed": false
   },
   "outputs": [],
   "source": [
    "print df.columns"
   ]
  },
  {
   "cell_type": "code",
   "execution_count": null,
   "metadata": {
    "collapsed": false
   },
   "outputs": [],
   "source": [
    "df.columns = [col.lower() for col in df.columns]\n",
    "print df.columns"
   ]
  },
  {
   "cell_type": "markdown",
   "metadata": {},
   "source": [
    "### 5.3 Borrando columnas"
   ]
  },
  {
   "cell_type": "code",
   "execution_count": null,
   "metadata": {
    "collapsed": false
   },
   "outputs": [],
   "source": [
    "print df.columns"
   ]
  },
  {
   "cell_type": "code",
   "execution_count": null,
   "metadata": {
    "collapsed": true
   },
   "outputs": [],
   "source": [
    "df = df[[\"tipo_de_arbol\",\"radio\",\"volumen\",\"altura\",]]"
   ]
  },
  {
   "cell_type": "code",
   "execution_count": null,
   "metadata": {
    "collapsed": false
   },
   "outputs": [],
   "source": [
    "df"
   ]
  },
  {
   "cell_type": "code",
   "execution_count": null,
   "metadata": {
    "collapsed": false
   },
   "outputs": [],
   "source": [
    "df = df.drop(\"tipo_de_arbol\", axis=1)"
   ]
  },
  {
   "cell_type": "code",
   "execution_count": null,
   "metadata": {
    "collapsed": false
   },
   "outputs": [],
   "source": [
    "df"
   ]
  },
  {
   "cell_type": "markdown",
   "metadata": {},
   "source": [
    "### 5.4 Agregando filas (indices)"
   ]
  },
  {
   "cell_type": "code",
   "execution_count": null,
   "metadata": {
    "collapsed": true
   },
   "outputs": [],
   "source": [
    "df = pd.read_csv(\"data/data.csv\", sep=\";\")"
   ]
  },
  {
   "cell_type": "code",
   "execution_count": null,
   "metadata": {
    "collapsed": true
   },
   "outputs": [],
   "source": []
  },
  {
   "cell_type": "code",
   "execution_count": null,
   "metadata": {
    "collapsed": true
   },
   "outputs": [],
   "source": []
  },
  {
   "cell_type": "markdown",
   "metadata": {},
   "source": [
    "### 5.5 Renombrando filas (índices)"
   ]
  },
  {
   "cell_type": "code",
   "execution_count": null,
   "metadata": {
    "collapsed": false
   },
   "outputs": [],
   "source": [
    "print df.index"
   ]
  },
  {
   "cell_type": "code",
   "execution_count": null,
   "metadata": {
    "collapsed": false
   },
   "outputs": [],
   "source": [
    "df.index = df.index + 10\n",
    "print df.index"
   ]
  },
  {
   "cell_type": "code",
   "execution_count": null,
   "metadata": {
    "collapsed": false
   },
   "outputs": [],
   "source": [
    "df.index = [\"i_%d\"%idx for idx in df.index]\n",
    "print df.index"
   ]
  },
  {
   "cell_type": "markdown",
   "metadata": {},
   "source": [
    "### 5.6 Borrando indices"
   ]
  },
  {
   "cell_type": "code",
   "execution_count": null,
   "metadata": {
    "collapsed": false
   },
   "outputs": [],
   "source": [
    "print df.index"
   ]
  },
  {
   "cell_type": "code",
   "execution_count": null,
   "metadata": {
    "collapsed": false
   },
   "outputs": [],
   "source": [
    "df = df.drop([\"i_11\",\"i_13\",\"i_19\"], axis=0)\n",
    "df"
   ]
  },
  {
   "cell_type": "code",
   "execution_count": null,
   "metadata": {
    "collapsed": false
   },
   "outputs": [],
   "source": [
    "df = df.drop([\"i_24\",\"i_25\",\"i_26\"], axis=0)\n",
    "df"
   ]
  },
  {
   "cell_type": "code",
   "execution_count": null,
   "metadata": {
    "collapsed": false
   },
   "outputs": [],
   "source": [
    "df = df[-5:]\n",
    "print df"
   ]
  },
  {
   "cell_type": "markdown",
   "metadata": {},
   "source": [
    "**Observación**\n",
    "```python\n",
    "df[col] # selecciona la columna col, regresa una serie\n",
    "df[[col1,col2,.., coln]] # selecciona las columnas col1, col2, ..., coln, regresa dataframe\n",
    "df[inicio:(inicio+1)] # selecciona solo el indice indicio, regresa un dataframe\n",
    "df[inicio:fin:salto] # selecciona los indices en notacion, regresa un dataframe\n",
    "```"
   ]
  },
  {
   "cell_type": "markdown",
   "metadata": {},
   "source": [
    "### 5.7 Masking"
   ]
  },
  {
   "cell_type": "code",
   "execution_count": null,
   "metadata": {
    "collapsed": false
   },
   "outputs": [],
   "source": [
    "df = pd.read_csv(\"data/data.csv\", sep=\";\")\n",
    "vol_mean = df.volumen.mean()\n",
    "vol_std = df.volumen.std()"
   ]
  },
  {
   "cell_type": "code",
   "execution_count": null,
   "metadata": {
    "collapsed": false
   },
   "outputs": [],
   "source": [
    "mask_1 = df.altura < .99*df.altura.max()\n",
    "mask_2 =  df.volumen <= vol_mean + vol_std\n",
    "df1 = df[ mask_1 & mask_2 ]\n",
    "df1"
   ]
  },
  {
   "cell_type": "code",
   "execution_count": null,
   "metadata": {
    "collapsed": false
   },
   "outputs": [],
   "source": [
    "# Si se hace dinamicamente, utilizar suficientes parentesis\n",
    "#df2 = df[ ((vol_mean - vol_std) <= df.volumen) & (df.volumen <= (vol_mean + vol_std) ) ]\n",
    "df2 = df[ (df.volumen >=(vol_mean - vol_std)) & (df.volumen <= (vol_mean + vol_std) ) ]\n",
    "df2"
   ]
  },
  {
   "cell_type": "code",
   "execution_count": null,
   "metadata": {
    "collapsed": false
   },
   "outputs": [],
   "source": [
    "# A veces para simplificar numpy ayuda\n",
    "mask_1 = df.volumen >= (vol_mean - vol_std)\n",
    "mask_2 = df.volumen <= (vol_mean + vol_std)\n",
    "mask = np.logical_and(mask_1, mask_2)\n",
    "df3 = df[np.logical_not(mask)]\n",
    "df3"
   ]
  },
  {
   "cell_type": "markdown",
   "metadata": {},
   "source": [
    "### 5.8.- Grouping"
   ]
  },
  {
   "cell_type": "code",
   "execution_count": null,
   "metadata": {
    "collapsed": false
   },
   "outputs": [],
   "source": [
    "df = pd.read_csv(\"data/data.csv\", sep=\";\")\n",
    "df.columns"
   ]
  },
  {
   "cell_type": "code",
   "execution_count": null,
   "metadata": {
    "collapsed": false
   },
   "outputs": [],
   "source": [
    "g = df.groupby(\"tipo_de_arbol\")\n",
    "print g"
   ]
  },
  {
   "cell_type": "code",
   "execution_count": null,
   "metadata": {
    "collapsed": false
   },
   "outputs": [],
   "source": [
    "print g.count()"
   ]
  },
  {
   "cell_type": "code",
   "execution_count": null,
   "metadata": {
    "collapsed": false
   },
   "outputs": [],
   "source": [
    "print g.sum() # .mean(), .std()"
   ]
  },
  {
   "cell_type": "code",
   "execution_count": null,
   "metadata": {
    "collapsed": false
   },
   "outputs": [],
   "source": [
    "# Ejemplo real\n",
    "df[[\"tipo_de_arbol\",\"diametro\", \"altura\"]].groupby(\"tipo_de_arbol\").mean()"
   ]
  },
  {
   "cell_type": "markdown",
   "metadata": {},
   "source": [
    "### 5.9.- Imputación de datos"
   ]
  },
  {
   "cell_type": "code",
   "execution_count": null,
   "metadata": {
    "collapsed": false
   },
   "outputs": [],
   "source": [
    "df = pd.read_csv(\"data/data.csv\", sep=\";\")\n",
    "print df.shape\n",
    "df.describe()"
   ]
  },
  {
   "cell_type": "code",
   "execution_count": null,
   "metadata": {
    "collapsed": false
   },
   "outputs": [],
   "source": [
    "df[\"tipo_de_arbol\"][df.tipo_de_arbol==\"Cherrie Tree\"] = \"Cherry Tree\"\n",
    "df"
   ]
  },
  {
   "cell_type": "code",
   "execution_count": null,
   "metadata": {
    "collapsed": false
   },
   "outputs": [],
   "source": [
    "df = pd.read_csv(\"data/data.csv\", sep=\";\")\n",
    "index_mask = (df.tipo_de_arbol==\"Cherrie Tree\")\n",
    "df.loc[index_mask, \"tipo_de_arbol\"] = \"Cherry Tree\" # .loc es esencial\n",
    "df"
   ]
  },
  {
   "cell_type": "code",
   "execution_count": null,
   "metadata": {
    "collapsed": false
   },
   "outputs": [],
   "source": [
    "df = pd.read_csv(\"data/data.csv\", sep=\";\")\n",
    "df1 = df.fillna(df.mean())\n",
    "df1"
   ]
  },
  {
   "cell_type": "code",
   "execution_count": null,
   "metadata": {
    "collapsed": false
   },
   "outputs": [],
   "source": [
    "df2 = df.fillna(0)\n",
    "df2"
   ]
  },
  {
   "cell_type": "code",
   "execution_count": null,
   "metadata": {
    "collapsed": false
   },
   "outputs": [],
   "source": [
    "df3 = df.dropna()\n",
    "df3"
   ]
  },
  {
   "cell_type": "markdown",
   "metadata": {},
   "source": [
    "### Apply"
   ]
  },
  {
   "cell_type": "code",
   "execution_count": null,
   "metadata": {
    "collapsed": false
   },
   "outputs": [],
   "source": [
    "df = pd.read_csv(\"data/data.csv\", sep=\";\")\n",
    "df1 = df.diametro.apply(lambda x: x*2)\n",
    "df1"
   ]
  },
  {
   "cell_type": "code",
   "execution_count": null,
   "metadata": {
    "collapsed": false
   },
   "outputs": [],
   "source": [
    "df2 = df[\"tipo_de_arbol\"].apply(str.upper) # Error\n",
    "df2"
   ]
  },
  {
   "cell_type": "code",
   "execution_count": null,
   "metadata": {
    "collapsed": false
   },
   "outputs": [],
   "source": [
    "df2 = df[\"tipo_de_arbol\"].apply(lambda s: str(s).upper() )\n",
    "df2"
   ]
  },
  {
   "cell_type": "code",
   "execution_count": null,
   "metadata": {
    "collapsed": false
   },
   "outputs": [],
   "source": [
    "df3 = df.apply(lambda x: x*2)\n",
    "df3"
   ]
  },
  {
   "cell_type": "markdown",
   "metadata": {},
   "source": [
    "**Atajo**\n",
    "Para usar las operaciones de string en una columna de strings, es posible utilizar la siguiente notación para ahorrar espacio."
   ]
  },
  {
   "cell_type": "code",
   "execution_count": null,
   "metadata": {
    "collapsed": false
   },
   "outputs": [],
   "source": [
    "df.tipo_de_arbol.str.upper()"
   ]
  },
  {
   "cell_type": "code",
   "execution_count": null,
   "metadata": {
    "collapsed": false
   },
   "outputs": [],
   "source": [
    "df.tipo_de_arbol.str.len()"
   ]
  },
  {
   "cell_type": "code",
   "execution_count": null,
   "metadata": {
    "collapsed": false
   },
   "outputs": [],
   "source": [
    "df.tipo_de_arbol.str[3:-3]"
   ]
  },
  {
   "cell_type": "markdown",
   "metadata": {},
   "source": [
    "### Merge"
   ]
  },
  {
   "cell_type": "code",
   "execution_count": null,
   "metadata": {
    "collapsed": false
   },
   "outputs": [],
   "source": [
    "df1 = pd.read_csv(\"data/data.csv\", sep=\";\")\n",
    "df1"
   ]
  },
  {
   "cell_type": "code",
   "execution_count": null,
   "metadata": {
    "collapsed": true
   },
   "outputs": [],
   "source": [
    "df2 = pd.DataFrame(data={\"tipo_de_arbol\":[\"Cherry Tree\", \"Apple Tree\", \"Pear Tree\"], \n",
    "                         \"fruto\":[\"guinda\",\"manzana\", \"pera\"], \n",
    "                         \"precio_pesos_por_kg\":[500, 2000, np.nan]})"
   ]
  },
  {
   "cell_type": "code",
   "execution_count": null,
   "metadata": {
    "collapsed": false
   },
   "outputs": [],
   "source": [
    "df3 = df1.merge(df2, how=\"left\", on=\"tipo_de_arbol\")\n",
    "df3"
   ]
  },
  {
   "cell_type": "code",
   "execution_count": null,
   "metadata": {
    "collapsed": false
   },
   "outputs": [],
   "source": [
    "df3 = df1.merge(df2, how=\"right\", on=\"tipo_de_arbol\")\n",
    "df3"
   ]
  },
  {
   "cell_type": "code",
   "execution_count": null,
   "metadata": {
    "collapsed": false
   },
   "outputs": [],
   "source": [
    "df3 = df1.merge(df2, how=\"inner\", on=\"tipo_de_arbol\")\n",
    "df3"
   ]
  },
  {
   "cell_type": "code",
   "execution_count": null,
   "metadata": {
    "collapsed": false
   },
   "outputs": [],
   "source": [
    "df3 = df1.merge(df2, how=\"outer\", on=\"tipo_de_arbol\")\n",
    "df3"
   ]
  },
  {
   "cell_type": "markdown",
   "metadata": {},
   "source": [
    "## Guardando datos\n",
    "  2. **csv**\n",
    "  3. **json**\n",
    "  4. **excel**\n",
    "\n",
    "  Lo más importante es tener cuidado de cómo se guarda los nombres de las columnas (header), y el indice (index). \n",
    "  \n",
    "  Depende de la utilización, pero mi recomendación es guardar el header explícitamente y guardar el index como una columna."
   ]
  },
  {
   "cell_type": "code",
   "execution_count": null,
   "metadata": {
    "collapsed": false
   },
   "outputs": [],
   "source": [
    "# csv\n",
    "df = pd.read_csv(\"data/data.csv\", sep=\";\")\n",
    "df = df[df.tipo_de_arbol==\"Cherry Tree\"]\n",
    "df.to_csv(\"data/output.csv\", sep=\"|\", index=True) # header=True by default\n",
    "df"
   ]
  },
  {
   "cell_type": "code",
   "execution_count": null,
   "metadata": {
    "collapsed": false
   },
   "outputs": [],
   "source": [
    "df2 = pd.read_csv(\"data/output.csv\", sep=\"|\", index_col=0) # get index from first column\n",
    "df2"
   ]
  },
  {
   "cell_type": "code",
   "execution_count": null,
   "metadata": {
    "collapsed": false
   },
   "outputs": [],
   "source": [
    "%%bash\n",
    "cat data/output.csv"
   ]
  },
  {
   "cell_type": "code",
   "execution_count": null,
   "metadata": {
    "collapsed": false
   },
   "outputs": [],
   "source": [
    "# json\n",
    "df = pd.read_csv(\"data/data.csv\", sep=\";\")\n",
    "df = df[df.tipo_de_arbol==\"Cherry Tree\"]\n",
    "df.to_json(\"data/output.json\")\n",
    "df"
   ]
  },
  {
   "cell_type": "code",
   "execution_count": null,
   "metadata": {
    "collapsed": false
   },
   "outputs": [],
   "source": [
    "df2 = pd.read_json(\"data/output.json\")\n",
    "df2"
   ]
  },
  {
   "cell_type": "code",
   "execution_count": null,
   "metadata": {
    "collapsed": false
   },
   "outputs": [],
   "source": [
    "%%bash\n",
    "cat data/output.json"
   ]
  },
  {
   "cell_type": "markdown",
   "metadata": {},
   "source": [
    "## Other topics\n",
    " * Changing column names\n",
    " * Changing row names\n",
    " * `str` for string operations"
   ]
  },
  {
   "cell_type": "code",
   "execution_count": null,
   "metadata": {
    "collapsed": false
   },
   "outputs": [],
   "source": [
    "df.Tipoarbol.str[:5]"
   ]
  },
  {
   "cell_type": "code",
   "execution_count": null,
   "metadata": {
    "collapsed": false
   },
   "outputs": [],
   "source": [
    "df.Tipoarbol.str.title()"
   ]
  },
  {
   "cell_type": "code",
   "execution_count": null,
   "metadata": {
    "collapsed": false
   },
   "outputs": [],
   "source": [
    "df.Altura.str[:4]"
   ]
  },
  {
   "cell_type": "code",
   "execution_count": null,
   "metadata": {
    "collapsed": false
   },
   "outputs": [],
   "source": [
    "df.Altura.apply(str).str[:4]"
   ]
  }
 ],
 "metadata": {
  "kernelspec": {
   "display_name": "Python 2",
   "language": "python",
   "name": "python2"
  },
  "language_info": {
   "codemirror_mode": {
    "name": "ipython",
    "version": 2
   },
   "file_extension": ".py",
   "mimetype": "text/x-python",
   "name": "python",
   "nbconvert_exporter": "python",
   "pygments_lexer": "ipython2",
   "version": "2.7.6"
  }
 },
 "nbformat": 4,
 "nbformat_minor": 0
}
