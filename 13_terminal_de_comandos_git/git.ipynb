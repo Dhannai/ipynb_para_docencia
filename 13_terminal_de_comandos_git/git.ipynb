{
 "cells": [
  {
   "cell_type": "markdown",
   "metadata": {},
   "source": [
    "<img src=\"images/utfsm.png\" alt=\"\" width=\"100px\" align=\"right\"/>\n",
    "# USM Numérica"
   ]
  },
  {
   "cell_type": "markdown",
   "metadata": {},
   "source": [
    "## Licencia y configuración del laboratorio\n",
    "Ejecutar la siguiente celda mediante *`Ctr-S`*."
   ]
  },
  {
   "cell_type": "code",
   "execution_count": 1,
   "metadata": {
    "collapsed": false
   },
   "outputs": [
    {
     "data": {
      "text/html": [
       "<style>\n",
       "\n",
       "/*********************************************\n",
       " * CHANGE CURSIVE FOR RED\n",
       " *********************************************/\n",
       "em {font-style: normal !important;\n",
       "    color: #800000;}\n",
       "\n",
       "</style>\n"
      ],
      "text/plain": [
       "<IPython.core.display.HTML object>"
      ]
     },
     "execution_count": 1,
     "metadata": {},
     "output_type": "execute_result"
    }
   ],
   "source": [
    "\"\"\"\n",
    "IPython Notebook v4.0 para python 3.0\n",
    "Librerías adicionales: \n",
    "Contenido bajo licencia CC-BY 4.0. Código bajo licencia MIT. \n",
    "(c) Sebastian Flores, Christopher Cooper, Alberto Rubio, Pablo Bunout.\n",
    "\"\"\"\n",
    "# Configuración para recargar módulos y librerías dinámicamente\n",
    "%reload_ext autoreload\n",
    "%autoreload 2\n",
    "\n",
    "# Configuración para graficos en línea\n",
    "%matplotlib inline\n",
    "\n",
    "# Configuración de estilo\n",
    "from IPython.core.display import HTML\n",
    "HTML(open(\"./style/style.css\", \"r\").read())"
   ]
  },
  {
   "cell_type": "markdown",
   "metadata": {},
   "source": [
    "## Introducción a GIT"
   ]
  },
  {
   "cell_type": "markdown",
   "metadata": {},
   "source": [
    "*GIT* es un sistema de control de versiones distribuído, diseñado y desarrollado a partir del año 2005 por Linux Kernel. Su funcionamiento se basa a partir de repositorios, los cuales almacenan uno o más archivos. A medida de que trabajamos sobre estos archivos generando continuas modificaciones, lo que hace un sistema de control de versiones, es generar una línea de tiempo o historial, en el cual queda registrado los distintos estados de nuestro repositorio y consecuentemente el de sus archivos, pudiendo acceder a estos cuando se deseé.\n",
    "\n",
    "Otra ventaja de *GIT*, es que nos permite sincronizar repositorios generados localmente con otros existente en la red (online), pudiendo subir o bajar material de la red, según sean los requerimientos. Esto úlitmo, abre un mundo de posibilidades para trabajar en proyectos en los que existan muchos participes y el flujo de información sea relevante, siendo *GIT* una herramienta útil para sincronizar las versiones de distintos usuarios y en distintos tiempos, sin que la pérdida de infromación o la superposición de esta, se vuelvan un problema de peso.\n",
    "\n",
    "En este tutorial verémos algunas instrucciones y comandos básicos, que nos permita realizar operaciones fundamentales, tales como crear un repositorio local, clonar un repositorio en línea y sincronizar ambos."
   ]
  },
  {
   "cell_type": "markdown",
   "metadata": {},
   "source": [
    "## Objetivos"
   ]
  },
  {
   "cell_type": "markdown",
   "metadata": {},
   "source": [
    "1. Operaciones para crear un repositorio local\n",
    "2. Operaciones para flujo de trabajo en repositorio local\n",
    "3. Sincronización de repositorio local y en línea\n",
    "4. Clonar directamente un repositorio online en un directorio de trabajo local\n",
    "5. Operaciones para repositorios online con más de un usuario\n",
    "\n"
   ]
  },
  {
   "cell_type": "markdown",
   "metadata": {},
   "source": [
    "### 1. Operaciones para crear un repositorio local\n"
   ]
  },
  {
   "cell_type": "markdown",
   "metadata": {},
   "source": [
    "Para crear un repositorio local, debemos primero generar un directorio sobre el cual queremos guardar los archivos de trabajo e identificar como un repositorio *GIT*. Usamos los siguientes comandos de *bash* desde la terminal, para crear un directorio.\n",
    "\n",
    "```Bash\n",
    "mkdir <repositorio_local>\n",
    "```\n",
    "Para que *GIT* reconozca el direcotrio creado como un repositorio debemos primero ubicarnos en el nuevo directorio y luego escribir el comando de *git* para iniciar repositorio.\n",
    "\n",
    "```Bash\n",
    "cd <repositorio_local>\n",
    "```\n",
    "```Bash\n",
    "git init\n",
    "```\n",
    "Ahora *GIT* reconoce el directorio creado como un nuevo repositorio. \n"
   ]
  },
  {
   "cell_type": "markdown",
   "metadata": {},
   "source": [
    "### 2. Operaciones para flujo de trabajo en repositorio local"
   ]
  },
  {
   "cell_type": "markdown",
   "metadata": {},
   "source": [
    "Antes de explicar los pasos y comandos necesarios para el flujo de trabajo, subir o bajar información y nuevos estados de los archivos locales, es importante entender que GIT proporciona 3 zonas virtuales, en las que se desarrollan diferentes funciones.\n",
    "\n",
    "La primera es el directorio de trabajo, sobre el cual se ha iniciado el repositorio local. Aquí es desde donde se genera la información y se guardan las modificaciones realizadas a los archivos locales, hasta el momento esto no tiene nunguna diferencia con la manera de trabajar en un sistema operativo, que nos permite generar un directorio o carpeta y guardar información y archivos en ella, actualizandola de forma manual.\n",
    "\n",
    "La segunda, es una zona intermedia en la cual debemos disponer los archivos modificados en el directorio local o únicamente aquellos que queramos sincronizar en nuestro repositorio.\n",
    "\n",
    "Finalmente la tercera zona es la que GIT reconoce y sobre la cual se genera la linea de tiempo o historial de trabajo. Para realizar lo anterior se debe hacer los siguientes comandos:\n",
    "\n",
    "Ya hemos iniciado un repositorio local sobre un directorio creado recientemente, si queremos añadir algún archivo creandolo desde la terminal, podemos escribir los comnados de bash:\n",
    "\n",
    "```Bash\n",
    "touch <archivo.tipo>\n",
    "```\n",
    "Una vez creado el archivo en el directorio de trabajo, debemos ponerlo en la zona intermedia (on stage), con el siguiente comando GIT.\n",
    "\n",
    "```Bash\n",
    "git add <archivo.tipo>\n",
    "```\n",
    "En caso de que existan muchos archivos sobre los cuales hemos hecho modificaciones, un comando alternativo que permite seleccionar todo lo existente en el directorio de trabajo para disponerlo en la zona intermedia es el siguiente:\n",
    "\n",
    "```Bash\n",
    "git add .\n",
    "```\n",
    "Luego de indexar los archivos modificados, debemos actualizarlos en la tercera zona, que es la que finalmente GIT reconoce y sobre la cual genera el historial de versiones. \n",
    "\n",
    "```Bash\n",
    "git commit -m <\"mensaje actualización\">\n",
    "```\n",
    "Finalmente tenemos los archivos y actualizaciones en nuestro repositorio local."
   ]
  },
  {
   "cell_type": "markdown",
   "metadata": {},
   "source": [
    "### 3. Sincronización de repositorio local y en línea"
   ]
  },
  {
   "cell_type": "markdown",
   "metadata": {},
   "source": [
    "Cuando sincronizamos un repositorio local con un existente en la red (online), nos permite el intercabio de información existente en cada una de ellas, es decir subir desde el repositorio local al online y bajar desde el último al local.\n",
    "\n",
    "Para que el repositorio local reconozca la dirección del repositorio online, desde la ubicación del directorio de trabajo debemos utilizar el siguiente comando:\n",
    "\n",
    "```Bash\n",
    "git remote add origin <https://dirección repositorio online>\n",
    "```\n",
    "El comando anterior además nos permite que el repositorio local, reconozca al repositorio online a partir del nombre *origin*, de esta forma abreviamos la dirección para un uso más práctico. Luego podemos visualizar las opciones de subir (*push*) y bajar (*fetch*) información con el comando:\n",
    "\n",
    "```Bash\n",
    "git remote -v\n",
    "```\n",
    "Otro aspecto importante a entender, son las líneas de tiempo o historiales denominadas como *branch*. Por defecto cada repositorio tiene un *branch* principal el cual se denomina *master*, GIT nos permite crear ramas paralelas a la principal, de modo de hacer un trabajo entre varios usuarios más eficiente, pero esto lo veremos más adelante.\n",
    "\n",
    "Ahora estamos listos para cruzar información entre los repositorios, continuamos con lo vistor anteriormente, en que hemos creado un archivo en el directorio de trabajo y a continuación especificaremos los pasos para subirlo al repositorio online.\n",
    "\n",
    "```Bash\n",
    "git add <archivo.tipo>\n",
    "```\n",
    "```Bash\n",
    "git commit -m <\"mensaje actualización\">\n",
    "```\n",
    "```Bash\n",
    "git push origin master \n",
    "```\n",
    "En resumen el primer comando selecciona el archivo creado en el directorio de trabajo, para colocarlo en la zona *onstage* listo para indexar. \n",
    "\n",
    "Luego lo hemos dispuesto en el repositorio local reconocido por GIT, con un mensaje en el que especificamos las modificaciones. \n",
    "\n",
    "Finalmente subimos estas modificaciones al repositorio online reconocido por el repositorio local a partir de la denominación *origin*, a la linea de tiempo o rama principal (*branch*), denominada por defecto con el nombre de *master*."
   ]
  },
  {
   "cell_type": "markdown",
   "metadata": {},
   "source": [
    "### 4. Clonar directamente un repositorio online en un directorio de trabajo"
   ]
  },
  {
   "cell_type": "markdown",
   "metadata": {},
   "source": [
    "Una opción a lo visto en el punto anterior, resulta de cuando existe previamente un repositorio online, el cual tiene sus propios archivos y queremos tener acceso a él, desde un directorio de trabajo local.\n",
    "\n",
    "Para esto existe la opción de clonar este repositorio, escribiendo el siguiente comando desde un drectorio de trabajo local específico:\n",
    "\n",
    "```Bash\n",
    "git clone <https://dirección repositorio online>\n",
    "```\n",
    "Eso crea automáticamente un repositorio local que reconoce la dirección del repositorio online por defecto como *origin* y su rama principal como *master*.\n",
    "\n",
    "Si luego trabajamos en los archivos bajados desde la red, en nuestro directorio local y queremos subir las modificaciones hechas en el repositorio local, repetimos de forma identica la secuencia de comandos vista en el último punto.\n",
    "\n",
    "```Bash\n",
    "git add <archivo.tipo>\n",
    "```\n",
    "```Bash\n",
    "git status\n",
    "```\n",
    "```Bash\n",
    "git commit -m <\"mensaje actualización\">\n",
    "```\n",
    "```Bash\n",
    "git push origin master \n",
    "```\n",
    "Hemos agregado el comando *git status*, ya que nos permite visualizar cuales archivos de nuestro repositorio local han sido modificados o creado, y cuales de ellos están en la zona de indexado, lo que es útil a la hora de trabajar con gran cantidad de archivos y directorios."
   ]
  },
  {
   "cell_type": "markdown",
   "metadata": {
    "collapsed": true
   },
   "source": [
    "### 5. Operaciones para repositorios online con más de un usuario"
   ]
  },
  {
   "cell_type": "markdown",
   "metadata": {},
   "source": [
    "En esta sección veremos aspectos necesarios en caso de que trabajemos localmente sincronizado con un repositorio remoto, al cual tienen acceso más de un usuario. En este contexto es importante considerar que un usuario puede generar modificaciones locales y subirlas al repositorio online, con lo cual surge la necesidad de antes de iniciar modificaciones en nuestro repositorio local, debemos (en caso de que lo queramos) actualizar la información de nuestro repositorio y fusionarlo, sincronizandolo con las modificaciones hechas por el otro usuario. Para esto usamos el siguiente comando *GIT*, ya ubicados en nuestra dirección de trabajo local.\n",
    "\n",
    "```Bash\n",
    "git pull\n",
    "```\n",
    "Es una buena práctica, cada vez que trabajamos sobre nuestro repositorio local, actualizarlo con el comando anterior, en caso de que algún usuario haya hecho modificaciones en el repositorio remoto.\n",
    "\n",
    "Otra necesidad o requerimiento que puede surgir, es que si queremos almacenar nuestro historial de trabajo en un *branch* paralelo al principal *master*, debemos crear esta línea de tiempo usando el siguiente comando, que a su vez nos redirecciona desde nuestro repositorio local a este nuevo *branch*.\n",
    "\n",
    "```Bash\n",
    "git checkout -b <branch_secundario>\n",
    "```\n",
    "De este modo, podemos subir las modificaciones hechas a la rama secundaria escribiendo, luego de hacer todos los comandos previos con:\n",
    "\n",
    "```Bash\n",
    "git push origin <branch_secundario>\n",
    "```\n",
    "El comando *checkout* nos permite cambiar de *branch* según nuestro interes, por ejemplo si queremos volver a la rama principal lo hacemos como siguie:\n",
    "\n",
    "```Bash\n",
    "git checkout <master> \n",
    "```\n"
   ]
  }
 ],
 "metadata": {
  "kernelspec": {
   "display_name": "Python 2",
   "language": "python",
   "name": "python2"
  },
  "language_info": {
   "codemirror_mode": {
    "name": "ipython",
    "version": 2
   },
   "file_extension": ".py",
   "mimetype": "text/x-python",
   "name": "python",
   "nbconvert_exporter": "python",
   "pygments_lexer": "ipython2",
   "version": "2.7.10"
  }
 },
 "nbformat": 4,
 "nbformat_minor": 0
}
