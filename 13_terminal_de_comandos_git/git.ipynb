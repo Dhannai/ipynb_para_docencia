{
 "cells": [
  {
   "cell_type": "markdown",
   "metadata": {},
   "source": [
    "<img src=\"images/utfsm.png\" alt=\"\" width=\"100px\" align=\"right\"/>\n",
    "# USM Numérica"
   ]
  },
  {
   "cell_type": "markdown",
   "metadata": {},
   "source": [
    "## Licencia y configuración del laboratorio\n",
    "Ejecutar la siguiente celda mediante *`Ctr-S`*."
   ]
  },
  {
   "cell_type": "code",
   "execution_count": 1,
   "metadata": {
    "collapsed": false
   },
   "outputs": [
    {
     "data": {
      "text/html": [
       "<style>\n",
       "\n",
       "/*********************************************\n",
       " * CHANGE CURSIVE FOR RED\n",
       " *********************************************/\n",
       "em {font-style: normal !important;\n",
       "    color: #800000;}\n",
       "\n",
       "</style>\n"
      ],
      "text/plain": [
       "<IPython.core.display.HTML object>"
      ]
     },
     "execution_count": 1,
     "metadata": {},
     "output_type": "execute_result"
    }
   ],
   "source": [
    "\"\"\"\n",
    "IPython Notebook v4.0 para python 3.0\n",
    "Librerías adicionales: \n",
    "Contenido bajo licencia CC-BY 4.0. Código bajo licencia MIT. \n",
    "(c) Sebastian Flores, Christopher Cooper, Alberto Rubio, Pablo Bunout.\n",
    "\"\"\"\n",
    "# Configuración para recargar módulos y librerías dinámicamente\n",
    "%reload_ext autoreload\n",
    "%autoreload 2\n",
    "\n",
    "# Configuración para graficos en línea\n",
    "%matplotlib inline\n",
    "\n",
    "# Configuración de estilo\n",
    "from IPython.core.display import HTML\n",
    "HTML(open(\"./style/style.css\", \"r\").read())"
   ]
  },
  {
   "cell_type": "markdown",
   "metadata": {},
   "source": [
    "## Introducción a GIT"
   ]
  },
  {
   "cell_type": "markdown",
   "metadata": {},
   "source": [
    "*GIT* es un sistema de control de versiones, desarrollado y distribuído a partir del año 2005 por Linux Kernel. Una caracteristica fundamental de un controlador de versiones, es que las unidades básicas sobre las que se estructura, denominadas repositorios, además de almacaner información y/o archivos al igual que un directorio o carpeta de un sistema operativo cualquiera, como Linux o Windows, son capaces de generar un historial o linea de tiempo que registre los diversos estados del repositorio y sus contenidos respectivos, otorgandonos la posibilidad de acceder a estos estados a partir de la ejecución de procedimientos específicos. \n",
    "\n",
    "Otra cualidad importante de *GIT*, es que nos permite vincular repositorios generados localmente, es decir en la computadora física, con otros repositorios remotos, existentes en la red (online). Pudiendo subir contenidos desde el repositorio local al remoto o bajar material de manera inversa. \n",
    "\n",
    "Lo anterior abre un mundo de posibilidades, particularmente en contextos donde el flujo de información sea relevante, por ejemplo en proyectos que requieran la participación de 2 o más personas trabajando en archivos comunes, siendo *GIT* una herramienta útil para sincronizar las versiones de distintos usuarios, realizadas simultaniamente o en distintos tiempos. Un buen uso de las herramientas que nos proveé *GIT*, ayudará a sincronizar y/o fusionar archivos evitando la pérdida de infromación o la superposición de esta.\n",
    "\n",
    "En este tutorial verémos algunas instrucciones y comandos básicos, que nos permita realizar operaciones fundamentales, tales como crear un repositorio local, clonar un repositorio en línea y sincronizar ambos."
   ]
  },
  {
   "cell_type": "markdown",
   "metadata": {},
   "source": [
    "## Objetivos"
   ]
  },
  {
   "cell_type": "markdown",
   "metadata": {},
   "source": [
    "1. Operaciones para crear un repositorio local\n",
    "2. Operaciones para flujo de trabajo en repositorio local\n",
    "3. Sincronización de repositorio local y en línea\n",
    "4. Clonar directamente un repositorio online en un directorio de trabajo local\n",
    "5. Operaciones para repositorios online con más de un usuario\n",
    "\n"
   ]
  },
  {
   "cell_type": "markdown",
   "metadata": {},
   "source": [
    "### 1. Operaciones para crear un repositorio local\n"
   ]
  },
  {
   "cell_type": "markdown",
   "metadata": {},
   "source": [
    "Para crear un repositorio local, debemos primero generar un directorio sobre el cual queremos guardar los archivos de trabajo y luego identificar este como un repositorio *GIT*. Usamos los siguientes comandos de *bash* para crear un directorio desde la terminal.\n",
    "\n",
    "```\n",
    "mkdir <repositorio_local>\n",
    "```\n",
    "Para que *GIT* reconozca el direcotrio creado como un repositorio debemos primero ubicarnos en el nuevo directorio y luego escribir el comando *git init* para iniciar repositorio.\n",
    "\n",
    "```\n",
    "cd <repositorio_local>\n",
    "```\n",
    "```\n",
    "git init\n",
    "```\n",
    "Ahora *GIT* ya reconoce el directorio como un nuevo repositorio. \n"
   ]
  },
  {
   "cell_type": "markdown",
   "metadata": {},
   "source": [
    "### 2. Operaciones para flujo de trabajo en repositorio local"
   ]
  },
  {
   "cell_type": "markdown",
   "metadata": {},
   "source": [
    "Antes de explicar los procedimientos y comandos que nos permiten subir o bajar información desde y hacia un repositorio, actualizar nuevos estados de archivos almacenados en él  y/o sincronizar repositorios locales con otros remotos, es importante entender que GIT proporciona 3 zonas virtuales, las que cumplen distintas tareas en función de las operaciones mencionadas recientemente. Estas son el *directorio de trabajo*, una *zona de indexado* y por último una zona que actúa como *cabeza* del repositorio, las que pasamos a detallar en orden respecivo.\n",
    "\n",
    "El *directorio de trabajo* corresponde a la zona sobre la cual se ha iniciado el repositorio local. Aquí es donde se almacenan los archivos locales y se registran las modificaciones realizadas a los últimos. hasta el momento esto no tiene nunguna diferencia con la manera de trabajar en un sistema operativo, que nos permite generar un directorio o carpeta y guardar información y archivos en ella, actualizandola de forma manual.\n",
    "\n",
    "La segunda es una zona intermedia, en la cual disponemos los archivos modificados en el directorio local, seleccionandolos como queramos con el comando *git add*.\n",
    "\n",
    "Finalmente la tercera zona es sobre la cual *GIT* genera un historial o la linea de tiempo, usando el comando *git commit*, que actualiza los archivos previamente seleccionados, registrando las modificaciones respectivas en el repositorio local. \n",
    "\n",
    "Para detallar los procedimientos mencionados anteriormente, presentamos las siguientes operaciones.\n",
    "\n",
    "Ya hemos iniciado un repositorio local sobre un directorio creado recientemente, si queremos añadir algún archivo creandolo desde la terminal, podemos escribir los comnados de *bash*:\n",
    "\n",
    "```\n",
    "touch <archivo.tipo>\n",
    "```\n",
    "Una vez creado el archivo en el directorio de trabajo, para que sea reconocido en el repositorio local debemos seleccionarlo de la siguiente manera.\n",
    "\n",
    "```\n",
    "git add <archivo.tipo>\n",
    "```\n",
    "En caso de que existan muchos archivos sobre los cuales hemos realizado modificaciones, una forma de seleccionarlos sería escribir sus nombres uno al lado de otro de forma suceciva.\n",
    "\n",
    "```\n",
    "git add <archivo_1.tipo> ... <archivo_n.tipo>\n",
    "```\n",
    "\n",
    "Una forma de hacer esto último de manera más eficiente sería con el comnado *`git add -u`*, el cual selecciona automáticamente todos los archivos modificados desde el último *commit*.\n",
    "\n",
    "un comando alternativo que permite seleccionar todo lo existente en el directorio de trabajo, sin discriminar entre los archivos modificados con los que no es *`git add .`*.\n",
    "\n",
    "Luego de indexar los archivos seleccionados, debemos disponerlos en la tercera zona, que es la que finalmente GIT reconoce y sobre la cual genera el historial de versiones. \n",
    "\n",
    "```\n",
    "git commit -m <\"mensaje actualización\">\n",
    "```\n",
    "Finalmente tenemos los archivos y actualizaciones en nuestro repositorio local."
   ]
  },
  {
   "cell_type": "markdown",
   "metadata": {},
   "source": [
    "### 3. Sincronización de repositorio local y en línea"
   ]
  },
  {
   "cell_type": "markdown",
   "metadata": {},
   "source": [
    "Cuando sincronizamos un repositorio local con uno remoto o existente en la red (online), tenemos la posibilidad de intercambiar información entre estos, es decir subir material nuevo desde el repositorio local al remoto y bajar material existente únicamente en el remoto al local.\n",
    "\n",
    "Para que el repositorio local reconozca la dirección del repositorio remoto, debemos utilizar el siguiente comando, haciendolo desde el directorio de trabajo.\n",
    "\n",
    "```\n",
    "git remote add origin <https://dirección repositorio online>\n",
    "```\n",
    "Por defecto el reppositorio local reconocerá al remoto por nombre *origin*, esto nos será útil para abreviar la dirección total del repositorio remoto, lo que tendrá un efecto práctico a la hora de realizar operaciones con diversos comandos de *git*. Luego podemos visualizar las opciones de subir (*push*) y bajar (*fetch*) información con el comando:\n",
    "\n",
    "```\n",
    "git remote -v\n",
    "```\n",
    "Otro aspecto importante a entender, son las líneas de tiempo o historiales denominadas como *branch*. Cada repositorio tiene un *branch* principal el cual análogamente a lo anterior, por defecto se denomina *master*. *GIT* nos permite además crear *branchs* paralelos al principal, lo que puede ayudar a realizar modificaciones a los archivos de forma segura, sin que estos se actualicen autamáticamente en la rama *master*, debiendo hacer una operación extra para fusionar el *branch* secundario con *master*.\n",
    "\n",
    "Ahora estamos listos para subir archivos al repositorio remoto desde el local, ya hemos mostrado como crear un archivo en el directorio de trabajo y a continuación especificaremos los pasos para actualizarlo en el repositorio local y luego subirlo al remoto.\n",
    "\n",
    "```\n",
    "git add <archivo.tipo>\n",
    "```\n",
    "```\n",
    "git commit -m <\"mensaje actualización\">\n",
    "```\n",
    "```\n",
    "git push origin master \n",
    "```\n",
    "En resumen, el primer comando selecciona el archivo creado en el directorio de trabajo, para colocarlo en la *zona de indexado* u *onstge*. \n",
    "\n",
    "Luego lo hemos actualizado en el repositorio local, con un mensaje en el que especificamos las modificaciones hechas. \n",
    "\n",
    "Finalmente subimos estos archivos al repositorio remoto, reconocido por el local a partir de la denominación *origin*, haciendolo sobre linea de tiempo o rama principal (*branch*), denominada por defecto con el nombre de *master*."
   ]
  },
  {
   "cell_type": "markdown",
   "metadata": {},
   "source": [
    "### 4. Clonar directamente un repositorio online en un directorio de trabajo"
   ]
  },
  {
   "cell_type": "markdown",
   "metadata": {},
   "source": [
    "Una opción a lo visto en el punto anterior, resulta de cuando existe previamente un repositorio online, el cual tiene sus propios archivos y queremos tener acceso a él, desde un directorio de trabajo local.\n",
    "\n",
    "Para esto existe la opción de clonar este repositorio, escribiendo el siguiente comando desde un drectorio de trabajo local específico:\n",
    "\n",
    "```Bash\n",
    "git clone <https://dirección repositorio online>\n",
    "```\n",
    "Eso crea automáticamente un repositorio local que reconoce la dirección del repositorio online por defecto como *origin* y su rama principal como *master*.\n",
    "\n",
    "Si luego trabajamos en los archivos bajados desde la red, en nuestro directorio local y queremos subir las modificaciones hechas en el repositorio local, repetimos de forma identica la secuencia de comandos vista en el último punto.\n",
    "\n",
    "```Bash\n",
    "git add <archivo.tipo>\n",
    "```\n",
    "```Bash\n",
    "git status\n",
    "```\n",
    "```Bash\n",
    "git commit -m <\"mensaje actualización\">\n",
    "```\n",
    "```Bash\n",
    "git push origin master \n",
    "```\n",
    "Hemos agregado el comando *git status*, ya que nos permite visualizar cuales archivos de nuestro repositorio local han sido modificados o creado, y cuales de ellos están en la zona de indexado, lo que es útil a la hora de trabajar con gran cantidad de archivos y directorios."
   ]
  },
  {
   "cell_type": "markdown",
   "metadata": {
    "collapsed": true
   },
   "source": [
    "### 5. Operaciones para repositorios online con más de un usuario"
   ]
  },
  {
   "cell_type": "markdown",
   "metadata": {},
   "source": [
    "En esta sección veremos aspectos necesarios en caso de que trabajemos localmente sincronizado con un repositorio remoto, al cual tienen acceso más de un usuario. En este contexto es importante considerar que un usuario puede generar modificaciones locales y subirlas al repositorio online, con lo cual surge la necesidad de antes de iniciar modificaciones en nuestro repositorio local, debemos (en caso de que lo queramos) actualizar la información de nuestro repositorio y fusionarlo, sincronizandolo con las modificaciones hechas por el otro usuario. Para esto usamos el siguiente comando *GIT*, ya ubicados en nuestra dirección de trabajo local.\n",
    "\n",
    "```Bash\n",
    "git pull\n",
    "```\n",
    "Es una buena práctica, cada vez que trabajamos sobre nuestro repositorio local, actualizarlo con el comando anterior, en caso de que algún usuario haya hecho modificaciones en el repositorio remoto.\n",
    "\n",
    "Otra necesidad o requerimiento que puede surgir, es que si queremos almacenar nuestro historial de trabajo en un *branch* paralelo al principal *master*, debemos crear esta línea de tiempo usando el siguiente comando, que a su vez nos redirecciona desde nuestro repositorio local a este nuevo *branch*.\n",
    "\n",
    "```Bash\n",
    "git checkout -b <branch_secundario>\n",
    "```\n",
    "De este modo, podemos subir las modificaciones hechas a la rama secundaria escribiendo, luego de hacer todos los comandos previos con:\n",
    "\n",
    "```Bash\n",
    "git push origin <branch_secundario>\n",
    "```\n",
    "El comando *checkout* nos permite cambiar de *branch* según nuestro interes, por ejemplo si queremos volver a la rama principal lo hacemos como siguie:\n",
    "\n",
    "```Bash\n",
    "git checkout <master> \n",
    "```\n"
   ]
  }
 ],
 "metadata": {
  "kernelspec": {
   "display_name": "Python 2",
   "language": "python",
   "name": "python2"
  },
  "language_info": {
   "codemirror_mode": {
    "name": "ipython",
    "version": 2
   },
   "file_extension": ".py",
   "mimetype": "text/x-python",
   "name": "python",
   "nbconvert_exporter": "python",
   "pygments_lexer": "ipython2",
   "version": "2.7.10"
  }
 },
 "nbformat": 4,
 "nbformat_minor": 0
}
