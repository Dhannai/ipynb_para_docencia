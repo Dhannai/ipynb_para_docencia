{
 "cells": [
  {
   "cell_type": "markdown",
   "metadata": {},
   "source": [
    "<img src=\"images/utfsm.png\" alt=\"\" width=\"100px\" align=\"right\"/>\n",
    "# USM Numérica"
   ]
  },
  {
   "cell_type": "markdown",
   "metadata": {},
   "source": [
    "## Licencia y configuración del laboratorio\n",
    "Ejecutar la siguiente celda mediante *`Ctr-S`*."
   ]
  },
  {
   "cell_type": "code",
   "execution_count": 4,
   "metadata": {
    "collapsed": false
   },
   "outputs": [
    {
     "data": {
      "text/html": [
       "<style>\n",
       "\n",
       "/*********************************************\n",
       " * CHANGE CURSIVE FOR RED\n",
       " *********************************************/\n",
       "em {font-style: normal !important;\n",
       "    color: #800000;}\n",
       "\n",
       "</style>\n"
      ],
      "text/plain": [
       "<IPython.core.display.HTML object>"
      ]
     },
     "execution_count": 4,
     "metadata": {},
     "output_type": "execute_result"
    }
   ],
   "source": [
    "\"\"\"\n",
    "IPython Notebook v4.0 para python 3.0\n",
    "Librerías adicionales: \n",
    "Contenido bajo licencia CC-BY 4.0. Código bajo licencia MIT. \n",
    "(c) Sebastian Flores, Christopher Cooper, Alberto Rubio, Pablo Bunout.\n",
    "\"\"\"\n",
    "# Configuración para recargar módulos y librerías dinámicamente\n",
    "%reload_ext autoreload\n",
    "%autoreload 2\n",
    "\n",
    "# Configuración para graficos en línea\n",
    "%matplotlib inline\n",
    "\n",
    "# Configuración de estilo\n",
    "from IPython.core.display import HTML\n",
    "HTML(open(\"./style/style.css\", \"r\").read())"
   ]
  },
  {
   "cell_type": "markdown",
   "metadata": {},
   "source": [
    "## Introducción a GIT"
   ]
  },
  {
   "cell_type": "markdown",
   "metadata": {},
   "source": [
    "*GIT* es un sistema de control de versiones, desarrollado y distribuído a partir del año 2005 por Linux Kernel. Una caracteristica fundamental de un controlador de versiones, es que las unidades básicas sobre las que se estructura, denominadas repositorios, además de almacaner información y/o archivos al igual que un directorio o carpeta de un sistema operativo cualquiera, como Linux o Windows, son capaces de generar un historial o linea de tiempo que registre los diversos estados del repositorio y sus contenidos respectivos, otorgandonos la posibilidad de acceder a estos estados a partir de la ejecución de procedimientos específicos a través de *git*. \n",
    "\n",
    "Otra cualidad importante de *GIT*, es que nos permite vincular repositorios generados localmente en la computadora física, con otros repositorios remotos, existentes en la red (online). Pudiendo subir contenidos desde el repositorio local al remoto o bajar material de manera inversa. \n",
    "\n",
    "Lo anterior abre un mundo de posibilidades, particularmente en contextos donde el flujo de información sea relevante, por ejemplo en proyectos que requieran la participación de 2 o más personas trabajando en archivos comunes, siendo *GIT* una herramienta útil para sincronizar las versiones de distintos usuarios, realizadas simultaniamente o en distintos tiempos. Un buen uso de las herramientas que nos proveé *GIT*, ayudará a sincronizar y/o fusionar archivos evitando la pérdida de infromación o la superposición de esta.\n",
    "\n",
    "En este tutorial verémos algunas instrucciones y comandos básicos, que nos permita realizar operaciones fundamentales, tales como crear un repositorio local, clonar un repositorio en línea y sincronizar ambos."
   ]
  },
  {
   "cell_type": "markdown",
   "metadata": {},
   "source": [
    "## Objetivos"
   ]
  },
  {
   "cell_type": "markdown",
   "metadata": {},
   "source": [
    "1. Operaciones para crear un repositorio local\n",
    "2. Operaciones para flujo de trabajo en repositorio local\n",
    "3. Sincronización de repositorio local y remoto\n",
    "4. Clonar directamente un repositorio remoto en un directorio de trabajo local\n",
    "5. Operaciones para repositorios remotos con más de un usuario\n",
    "6. Ejercicio de práctica\n"
   ]
  },
  {
   "cell_type": "markdown",
   "metadata": {},
   "source": [
    "### 1. Operaciones para crear un repositorio local\n"
   ]
  },
  {
   "cell_type": "markdown",
   "metadata": {},
   "source": [
    "Para crear un repositorio local, debemos primero generar un directorio sobre el cual queremos guardar los archivos de trabajo y luego identificar este como un repositorio *GIT*. Usamos los siguientes comandos de *bash* para crear un directorio desde la terminal.\n",
    "\n",
    "```\n",
    "mkdir <repositorio_local>\n",
    "```\n",
    "Para que *GIT* reconozca el direcotrio creado como un repositorio debemos primero ubicarnos en el nuevo directorio y luego escribir el comando *git init*.\n",
    "\n",
    "```\n",
    "cd <repositorio_local>\n",
    "```\n",
    "```\n",
    "git init\n",
    "```\n",
    "Ahora *GIT* ya reconoce el directorio como un nuevo repositorio. \n"
   ]
  },
  {
   "cell_type": "markdown",
   "metadata": {},
   "source": [
    "### 2. Operaciones para flujo de trabajo en repositorio local"
   ]
  },
  {
   "cell_type": "markdown",
   "metadata": {},
   "source": [
    "Antes de explicar los procedimientos y comandos que nos permiten subir o bajar información desde y hacia un repositorio, actualizar nuevos estados de archivos almacenados en él  y/o sincronizar repositorios locales con otros remotos, es importante entender que GIT proporciona 3 zonas virtuales, las que cumplen distintas tareas en función de las operaciones mencionadas recientemente. Estas son el *directorio de trabajo*, una *zona de indexado* y por último una zona que actúa como *cabecera* del repositorio, las que pasamos a detallar en orden respecivo.\n",
    "\n",
    "### imagen ZONAS\n",
    "\n",
    "El *directorio de trabajo* corresponde a la zona sobre la cual se ha iniciado el repositorio local. Aquí es donde se almacenan los archivos locales y se registran las modificaciones realizadas a los últimos. Hasta el momento esto no tiene nunguna diferencia con la manera de operar en un sistema operativo, que nos permite generar un directorio o carpeta y guardar archivos en ella, actualizandolos de forma manual.\n",
    "\n",
    "La segunda es una zona intermedia, en la cual disponemos los archivos modificados en el directorio local, seleccionandolos con el comando *git add*.\n",
    "\n",
    "Finalmente la tercera zona es sobre la cual *GIT* genera un historial o la linea de tiempo, usando el comando *git commit*, que actualiza los archivos previamente seleccionados, registrando las modificaciones respectivas en el repositorio local. \n",
    "\n",
    "### imagen FLUJO TRABAJO\n",
    "\n",
    "Describimos los procedimientos mencionados anteriormente:\n",
    "\n",
    "Ya hemos iniciado un repositorio local sobre un directorio creado recientemente, si queremos añadir algún archivo creandolo desde la terminal, podemos escribir los comnados de *bash*:\n",
    "\n",
    "```\n",
    "touch <archivo.tipo>\n",
    "```\n",
    "Una vez creado el archivo en el directorio de trabajo, para que sea reconocido en el repositorio local debemos seleccionarlo de la siguiente manera.\n",
    "\n",
    "```\n",
    "git add <archivo.tipo>\n",
    "```\n",
    "En caso de que existan muchos archivos sobre los cuales hemos realizado modificaciones, una forma de seleccionarlos sería escribir sus nombres uno al lado de otro de forma suceciva.\n",
    "\n",
    "```\n",
    "git add <archivo_1.tipo> ... <archivo_n.tipo>\n",
    "```\n",
    "\n",
    "Otra manera de hacer más eficiente esto último, sería utilizando el comnado *`git add -u`*, el cual selecciona automáticamente todos los archivos modificados desde el último *commit*, descartando aquellos archivos sobre los cuales no se han realizado modificaciones presentes.\n",
    "\n",
    "Un comando alternativo que permite seleccionar todo lo existente en el directorio de trabajo, sin discriminar entre los archivos modificados y los que no, es usando *`git add .`*.\n",
    "\n",
    "Luego de indexar los archivos seleccionados, debemos disponerlos en la tercera zona, que es la que finalmente GIT reconoce y sobre la cual genera el historial de versiones. \n",
    "\n",
    "```\n",
    "git commit -m <\"mensaje actualización\">\n",
    "```\n",
    "Ya tenemos entonces los archivos y actualizaciones en nuestro repositorio local al disponerlos en el encabezado de este. Otro aspecto útil de *git*, es que cada vez que hacemos un *commit*, este queda regsitrado con una etiqueda o *id*, podemos acceder a esta información a traves de *git log*. Si queremos modificar la etiqueta de forma manual, escribimos lo siguiente:\n",
    "\n",
    "```\n",
    "git tag <etiqueta nueva> <etiqueta antigua>\n",
    "```"
   ]
  },
  {
   "cell_type": "markdown",
   "metadata": {},
   "source": [
    "### 3. Sincronización de repositorio local y remoto"
   ]
  },
  {
   "cell_type": "markdown",
   "metadata": {},
   "source": [
    "Cuando sincronizamos un repositorio local con uno remoto o existente en la red (online), tenemos la posibilidad de intercambiar información entre estos, es decir subir material nuevo desde el repositorio local al remoto y visceversa.\n",
    "\n",
    "Para que el repositorio local reconozca la dirección del repositorio remoto, debemos utilizar el siguiente comando, haciendolo desde el directorio de trabajo.\n",
    "\n",
    "```\n",
    "git remote add origin <https://dirección repositorio online>\n",
    "```\n",
    "Por defecto el reppositorio local reconocerá al remoto por nombre *origin*, esto nos será útil para abreviar la dirección total del repositorio remoto, lo que tendrá un efecto práctico a la hora de realizar operaciones con diversos comandos de *git*. Luego podemos visualizar las opciones de subir (*push*) y bajar (*fetch*) información con el comando:\n",
    "\n",
    "```\n",
    "git remote -v\n",
    "```\n",
    "Otro aspecto importante a entender, son las líneas de tiempo o historiales denominada *branch*. Cada repositorio tiene un *branch* principal el que por defecto se denomina *master*. *GIT* nos permite además crear *branchs* paralelos al principal, lo que puede ayudar a realizar modificaciones a los archivos de forma segura, sin que estos se actualicen autamáticamente en la rama *master*, debiendo hacer una operación extra para fusionar el *branch* secundario con *master* principal.\n",
    "\n",
    "Ahora estamos listos para subir archivos al repositorio remoto desde el local, ya hemos mostrado como crear un archivo en el directorio de trabajo y a continuación especificaremos los pasos para actualizarlo en el repositorio local y luego subirlo al remoto.\n",
    "\n",
    "```\n",
    "git add <archivo.tipo>\n",
    "```\n",
    "```\n",
    "git commit -m <\"mensaje actualización\">\n",
    "```\n",
    "```\n",
    "git push origin master \n",
    "```\n",
    "En resumen, el primer comando selecciona el archivo creado en el directorio de trabajo, para colocarlo en la *zona de indexado* u *onstge*. \n",
    "\n",
    "Luego lo hemos actualizado en el repositorio local, con un mensaje en el que especificamos las modificaciones hechas. \n",
    "\n",
    "Finalmente subimos estos archivos al repositorio remoto, reconocido por el local a partir de la denominación *origin*, haciendolo sobre linea de tiempo o rama principal (*branch*), denominada por defecto con el nombre de *master*."
   ]
  },
  {
   "cell_type": "markdown",
   "metadata": {},
   "source": [
    "### 4. Clonar directamente un repositorio remoto en un directorio de trabajo"
   ]
  },
  {
   "cell_type": "markdown",
   "metadata": {},
   "source": [
    "Cuando existe un repositorio en la red, el cual tiene sus propios archivos y queremos tener acceso a estos, tenemos la opción de hacerlo desde un repositorio local, trabajando desde nuestro directorio de trabajo.\n",
    "\n",
    "Para esto existe la opción de clonar el repositorio en la re, escribiendo el siguiente comando desde un drectorio de trabajo local específico:\n",
    "\n",
    "```\n",
    "git clone <https://dirección repositorio online>\n",
    "```\n",
    "Eso crea automáticamente un repositorio local que reconoce la dirección del repositorio remoto por defecto como *origin* y su rama principal como *master*, al igual que lo visto en la sección anterior.\n",
    "\n",
    "Si luego trabajamos en los archivos bajados desde la red, desde nuestro directorio local y queremos subir las modificaciones hechas en el repositorio local, repetimos de forma identica la secuencia de comandos vista en el último punto.\n",
    "\n",
    "```\n",
    "git add <archivo.tipo>\n",
    "```\n",
    "```\n",
    "git status\n",
    "```\n",
    "```\n",
    "git commit -m <\"mensaje actualización\">\n",
    "```\n",
    "```\n",
    "git push origin master \n",
    "```\n",
    "Hemos agregado el comando *git status*, ya que nos permite visualizar cuales archivos de nuestro repositorio local han sido modificados o creado, y cuales de ellos están en la zona de indexado, lo que es útil a la hora de trabajar con gran cantidad de archivos y directorios."
   ]
  },
  {
   "cell_type": "markdown",
   "metadata": {
    "collapsed": true
   },
   "source": [
    "### 5. Operaciones para repositorios remotos con más de un usuario"
   ]
  },
  {
   "cell_type": "markdown",
   "metadata": {},
   "source": [
    "En esta sección veremos aspectos importantes en caso de que trabajemos localmente, sincronizados a un repositorio remoto al cual tienen acceso más de un usuario. En este contexto es importante considerar que un usuario puede generar modificaciones locales y subirlas al repositorio remoto. Un problema típico en esta lógica de trabajo es el desfaze de las versiones entre los usuarios para iguales archivos, surge entonces la necesidad de actualizar los archivos en nuestro repositorio local, sincronizandolos con las modificaciones hechas por otros usuarios, antes de comenzar a trabajar y realizar modificaciones en ellos. Para esto usamos el siguiente comando *GIT*, ubicados en nuestra dirección de trabajo local.\n",
    "\n",
    "```\n",
    "git pull\n",
    "```\n",
    "Es una muy buena práctica, cada vez que trabajamos sobre nuestro repositorio local, actualizarlo con el comando anterior, en caso de que algún usuario haya hecho modificaciones en el repositorio remoto.\n",
    "\n",
    "Otra necesidad o requerimiento que puede surgir, es que si queremos almacenar nuestro historial de trabajo en un *branch* paralelo al principal *master*, debemos crear esta línea de tiempo usando el comando *checkout -b*, que a su vez nos redirecciona a este nuevo *branch* desde nuestro directorio local.\n",
    "\n",
    "```\n",
    "git checkout -b <branch_secundario>\n",
    "```\n",
    "De este modo, podemos subir las modificaciones hechas a la rama secundaria, que nos permitirá trabajar de forma más segura, en caso de tener problemas de desface entre el repositorio remoto y el local.\n",
    "\n",
    "```\n",
    "git push origin <branch_secundario>\n",
    "```\n",
    "El comando *checkout* nos permite cambiar de *branch* según nuestro interes, por ejemplo si queremos volver a la rama principal lo hacemos como sigue:\n",
    "\n",
    "```\n",
    "git checkout <master> \n",
    "```\n",
    "Finalmente, al trabajar sobre un *branch* secundario, debemos fusionar este *branch* con *master*, podemos hacerlo directamente desde nuestro repositorio local o sobre el remoto, esto último dependerar de la plataforma sobre la cual estamos trabajando. Por ejemplo *github* nos ofrece realizar la fusión entre *branchs* haciendo click en *merge*.\n",
    "\n",
    "### imagen Github\n",
    "\n",
    "Si hacemos la fusión desde nuestro repositorio local, debemos escribir:\n",
    "\n",
    "```\n",
    "git merge <branch_secundario>\n",
    "```\n",
    "Es recomendable antes de realizar la fusión entre los *branchs*, revisar las diferencias entre ambas, esto puede realizarce con:\n",
    "\n",
    "```\n",
    "git diff <source_branch> <target_branch>\n",
    "```\n",
    "En caso de que se exista alún error en nuestras operaciones desde el repositorio local, podemos solucionar este problema eliminando las modificaciones hechas y reemplazarlos por las versiones registradas en el último *commit* registrado en el repositorio.\n",
    "\n",
    "```\n",
    "git checkout -- <archivo.tipo>\n",
    "```\n",
    "Si el asunto es más grave y queremos deshacer todos los cambios locales realizados, podemos bajar la última versión almacenada en el servidor del repositorio remoto con:\n",
    "\n",
    "```\n",
    "git fetch origin\n",
    "```\n",
    "Y luego reemplazar esta versión por la local.\n",
    "\n",
    "```\n",
    "git reset --hard origin/master\n",
    "```\n"
   ]
  },
  {
   "cell_type": "markdown",
   "metadata": {},
   "source": [
    "### 6. Ejercicio de práctica"
   ]
  },
  {
   "cell_type": "markdown",
   "metadata": {},
   "source": [
    "Para redondear lo visto en este tutorial se dejara como ejericio las siguientes instrucciones:\n",
    "\n",
    "  * Crear un directorio de trabajo\n",
    "  * Copiar 2 archivos de textos provenientes desde cualquier dirección en él\n",
    "  * Iniciar el repositorio local desde el directorio creado, con *git init*\n",
    "  * Indexar los 3 archivos con el comando *git add .*\n",
    "  * Encabezar los archivos indexados con un mensaje que diga *\"primer commit\"*\n",
    "  * Generar un *branch* paralelo con *git checkout -b*\n",
    "  * Crear un archivo de texto en el *branch* secundario\n",
    "  * Indexar únicamente el archivo creado con *git add -u* y hacer un *commit* \n",
    "  * Realizar un *merge* entre el *branch* secundario y *master*"
   ]
  }
 ],
 "metadata": {
  "kernelspec": {
   "display_name": "Python 2",
   "language": "python",
   "name": "python2"
  },
  "language_info": {
   "codemirror_mode": {
    "name": "ipython",
    "version": 2
   },
   "file_extension": ".py",
   "mimetype": "text/x-python",
   "name": "python",
   "nbconvert_exporter": "python",
   "pygments_lexer": "ipython2",
   "version": "2.7.10"
  }
 },
 "nbformat": 4,
 "nbformat_minor": 0
}
