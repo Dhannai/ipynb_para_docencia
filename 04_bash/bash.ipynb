{
 "cells": [
  {
   "cell_type": "markdown",
   "metadata": {},
   "source": [
    "# Introducción a BASH"
   ]
  },
  {
   "cell_type": "markdown",
   "metadata": {},
   "source": [
    "Antes de comenzar debemos saber que Bash es un programa informático usado como interprete de comandos \n",
    "o instrucciones dadas por un usuario, las cuales son escritas en alguna interfaz gráfica o comunmente \n",
    "una términal. Esas instrucciones son interpretadas por Bash para luego enviar dichas ordenes al Núcleo \n",
    "o Kernel del sistema operativo.\n",
    "\n",
    "Cada sistema operativo se encuentra conformado por un Núcleo particular, que se encarga de interactuar \n",
    "con la computadora siendo una especie de cerebro capaz de organizar, administrar y distribuir los recursos \n",
    "físicos de esta, tales como memoria, procesador, forma de almacenamiento etc...:\n",
    "\n",
    "<img src=\"imbash.png\"width=\"400px\">\n",
    "\n",
    "Bash (Bourne-Again-Shell) es un lenguaje de programación basado en Bourne-Shell, el cual fue creado para \n",
    "sistemas Unix en la decada de los 70, siendo el sustituto natural y de acceso libre de este a partir del \n",
    "año 1987 siendo compatible con la mayoría de sistemas Unix, GNU/Linux y en algunos casos con Microsoft-Windows \n",
    "y Apple. \n"
   ]
  },
  {
   "cell_type": "markdown",
   "metadata": {},
   "source": [
    "## Objetivos"
   ]
  },
  {
   "cell_type": "markdown",
   "metadata": {},
   "source": [
    "* Operaciones básicas para crear, abrir y cambiarse de directorio\n",
    "* Operaciones para crear archivo de algún en un directorio, copiarlo y cambiarlo de directo\n",
    "* Manipulación de datos dentro de un archivo\n",
    "\n",
    "```Bash\n",
    "cd      \n",
    "\n",
    "```\n"
   ]
  },
  {
   "cell_type": "markdown",
   "metadata": {},
   "source": [
    "### Operaciones para crear, abrir y cambiar de directorio"
   ]
  },
  {
   "cell_type": "code",
   "execution_count": 2,
   "metadata": {
    "collapsed": false
   },
   "outputs": [
    {
     "name": "stdout",
     "output_type": "stream",
     "text": [
      "/home/pbunout/Escritorio/bash/test\n"
     ]
    }
   ],
   "source": [
    "%%bash\n",
    "\n",
    "mkdir test\n",
    "cd test\n",
    "ls\n",
    "pwd"
   ]
  },
  {
   "cell_type": "markdown",
   "metadata": {},
   "source": [
    "### Operaciones para crear, copiar y eliminar archivos"
   ]
  },
  {
   "cell_type": "code",
   "execution_count": null,
   "metadata": {
    "collapsed": true
   },
   "outputs": [],
   "source": [
    "# Debemos ingresar al directorio en el cual deseamos guardar el archivo \n",
    "# Luego de esto utilizamos lo siguiente para crear el archivo\n",
    "$ echo >> [archivo.tipo]\n",
    "\n",
    "# Para copiar el archivo y guardarlo en otro directorio\n",
    "$ cp [archivo.tipo] [directorio]\n",
    "\n",
    "# Si queremos borrar el archivo en el sub-directorio original\n",
    "$ rm -r [archivo.tipo]\n",
    "\n",
    "# Este comando sirve también para borrar directorios con su contenido al interior\n",
    "\n",
    "# Si queremos mover el archivo de un sub-directorio a otro estando en el directorio que contiene a ambos\n",
    "$ mv [archivo.tipo] [subdirectorio]"
   ]
  }
 ],
 "metadata": {
  "kernelspec": {
   "display_name": "Python 2",
   "language": "python",
   "name": "python2"
  },
  "language_info": {
   "codemirror_mode": {
    "name": "ipython",
    "version": 2
   },
   "file_extension": ".py",
   "mimetype": "text/x-python",
   "name": "python",
   "nbconvert_exporter": "python",
   "pygments_lexer": "ipython2",
   "version": "2.7.10"
  }
 },
 "nbformat": 4,
 "nbformat_minor": 0
}
