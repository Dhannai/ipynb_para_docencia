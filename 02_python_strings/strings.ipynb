{
 "cells": [
  {
   "cell_type": "markdown",
   "metadata": {},
   "source": [
    "<img src=\"images/utfsm.png\" alt=\"\" width=\"100px\" align=\"right\"/>\n",
    "# USM Numérica"
   ]
  },
  {
   "cell_type": "markdown",
   "metadata": {},
   "source": [
    "# Licencia y configuración del laboratorio\n",
    "Ejecutar la siguiente celda mediante *`Ctr-S`*."
   ]
  },
  {
   "cell_type": "code",
   "execution_count": null,
   "metadata": {
    "collapsed": false
   },
   "outputs": [],
   "source": [
    "\"\"\"\n",
    "IPython Notebook v4.0 para python 3.0\n",
    "Librerías adicionales: \n",
    "Contenido bajo licencia CC-BY 4.0. Código bajo licencia MIT. \n",
    "(c) Sebastian Flores, Christopher Cooper, Alberto Rubio, Pablo Bunout.\n",
    "\"\"\"\n",
    "# Configuración para recargar módulos y librerías dinámicamente\n",
    "%reload_ext autoreload\n",
    "%autoreload 2\n",
    "\n",
    "# Configuración para graficos en línea\n",
    "%matplotlib inline\n",
    "\n",
    "# Configuración de estilo\n",
    "from IPython.core.display import HTML\n",
    "HTML(open(\"./style/style.css\", \"r\").read())"
   ]
  },
  {
   "cell_type": "markdown",
   "metadata": {},
   "source": [
    "## Introducción a STRING"
   ]
  },
  {
   "cell_type": "markdown",
   "metadata": {},
   "source": [
    "En Python podemos definir distintos tipos de variables, en este caso un objeto definido como un *string* tiene una serie de cualidades que nos permiten realizar ciertas operaciones que definiremos en este tutorial.\n",
    "\n",
    "En particular el nombre *string* refiere a una secuencia de caracteres que puede ser utilizada como variable para representar otro objeto de distinta naturaleza como un número, también puede construirse un algoritmo que nos permita dar acceso a algún archivo o directorio a partir de una contraseña, entre otras posibilidades. A continuación presentamos una serie de operaciones comunes que nos permitirán tener un manejo básico de un *string*."
   ]
  },
  {
   "cell_type": "markdown",
   "metadata": {},
   "source": [
    "## Objetivos"
   ]
  },
  {
   "cell_type": "markdown",
   "metadata": {},
   "source": [
    "1. Operaciones básicas para crear un formato\n",
    "2. Operaciones de busqueda\n",
    "3. Operaciones lógicas de formato\n",
    "4. Sentencias de condicionamiento\n",
    "5. Ejercicio de práctica\n"
   ]
  },
  {
   "cell_type": "markdown",
   "metadata": {},
   "source": [
    "### 1. Operaciones básicas para asignar un formato"
   ]
  },
  {
   "cell_type": "markdown",
   "metadata": {},
   "source": [
    "En ocasiones se vuelve útil poder controlar a partir de ciertos comandos el fortmato de un *string*, pudiendo cambiar letras mayúsculas y minúsculas, centrar o mover la variable a un extremo de la pantalla y/o darle un formato en específico a nuestra secuencia.\n",
    "\n",
    "Por ejemplo un *string* que definiremos como variable podemos hacer que represente un pequeño texto, una vez definido nuestro *string* le daremos un formato de título mediante el siguiente comando.\n"
   ]
  },
  {
   "cell_type": "code",
   "execution_count": null,
   "metadata": {
    "collapsed": false
   },
   "outputs": [],
   "source": [
    "cadena_1 = \"aprender haciendo\"\n",
    "\n",
    "print cadena_1.title()"
   ]
  },
  {
   "cell_type": "markdown",
   "metadata": {},
   "source": [
    "Otra posibilidad es que imprima nuestra variable asignada únicamente con letras mayusculas.\n"
   ]
  },
  {
   "cell_type": "code",
   "execution_count": null,
   "metadata": {
    "collapsed": false
   },
   "outputs": [],
   "source": [
    "print cadena_1.upper()"
   ]
  },
  {
   "cell_type": "markdown",
   "metadata": {},
   "source": [
    "Centrar o alinear un texto a la izquierda o derecha de la pantalla son otras opciones de formato posibles de realizar con comandos de python definidos para un string."
   ]
  },
  {
   "cell_type": "code",
   "execution_count": null,
   "metadata": {
    "collapsed": false
   },
   "outputs": [],
   "source": [
    "cadena_2 = \"lo maravilloso de programar\"\n",
    "\n",
    "print cadena_2.center(50,\"=\")"
   ]
  },
  {
   "cell_type": "markdown",
   "metadata": {},
   "source": [
    "Podemos reedefinir una variable con cierto formato y luego convinar con otra opción de formato como sigue."
   ]
  },
  {
   "cell_type": "code",
   "execution_count": null,
   "metadata": {
    "collapsed": false
   },
   "outputs": [],
   "source": [
    "cadena_1 = \"aprender haciendo\".title()\n",
    "\n",
    "print cadena_1.rjust(40, \" \")"
   ]
  },
  {
   "cell_type": "markdown",
   "metadata": {},
   "source": [
    "Se puede observar que el comando anterior ajusta el texto a la derecha, ademá de que se puede introducir cualquier símbolo incluso espacio, su homólogo a la izquierda es el siguiente."
   ]
  },
  {
   "cell_type": "code",
   "execution_count": null,
   "metadata": {
    "collapsed": false
   },
   "outputs": [],
   "source": [
    "print cadena_1.ljust(40, \"*\")"
   ]
  },
  {
   "cell_type": "markdown",
   "metadata": {},
   "source": [
    "### 2. Operaciones de busqueda en un string"
   ]
  },
  {
   "cell_type": "markdown",
   "metadata": {},
   "source": [
    "Realizar operaciones de búsqueda de una carácter o subcadena dentro de una cadena, pudiendo contabilizar cuantas veces se repite este carácter o determinar la posición en la cual se encuentra la subcadena dentro de la cadena es posible mediante los siguientes comandos.\n",
    "\n",
    "```Python\n",
    "\n",
    "```"
   ]
  },
  {
   "cell_type": "code",
   "execution_count": null,
   "metadata": {
    "collapsed": false
   },
   "outputs": [],
   "source": [
    "cadena_3 = \"buscando a wally\".title()\n",
    "\n",
    "cadena_3.find(\"Wally\")"
   ]
  },
  {
   "cell_type": "markdown",
   "metadata": {},
   "source": [
    "EL comando *`find`* nos arroja un número que nos indica la posición que antecede al primer caracter de Wally, es decir encontramos a Wally luego del caracter que se ubica luego de la posición 11 dentro de la cadena 3. Otra opción es realizar una busqueda de un subtexto en un tramo definido de la variable, mencionando a demás que cuando no se encuentra el caracter en el tramo definido, por defecto nos arroja el valor -1."
   ]
  },
  {
   "cell_type": "code",
   "execution_count": null,
   "metadata": {
    "collapsed": false
   },
   "outputs": [],
   "source": [
    "cadena_3.find(\"Wally\",0,10)"
   ]
  },
  {
   "cell_type": "code",
   "execution_count": null,
   "metadata": {
    "collapsed": false
   },
   "outputs": [],
   "source": [
    "cadena_3.find(\"Wally\",2,20)"
   ]
  },
  {
   "cell_type": "markdown",
   "metadata": {},
   "source": [
    "Podemos tambíen contabilizar cuantas veces se encuentra un caracter o subcadena dento de una cadena con el comando *`count`*. Y de igual modo que antes la contabilización es posible de realizar en un tramo definido del texto."
   ]
  },
  {
   "cell_type": "code",
   "execution_count": null,
   "metadata": {
    "collapsed": false
   },
   "outputs": [],
   "source": [
    "cadena_4 = \"que fácil de encontrar\"\n",
    "\n",
    "cadena_4.count(\"e\")\n"
   ]
  },
  {
   "cell_type": "code",
   "execution_count": null,
   "metadata": {
    "collapsed": false
   },
   "outputs": [],
   "source": [
    "cadena_4.count(\"e\",0,13)"
   ]
  },
  {
   "cell_type": "markdown",
   "metadata": {
    "collapsed": true
   },
   "source": [
    "### 3. Operaciones lógicas de formato"
   ]
  },
  {
   "cell_type": "markdown",
   "metadata": {},
   "source": [
    "Veremos que podemos realizar sentencias lógicas en relación a características de un *string*, esto puede ser de mucha ayuda a la hora de definir ciertos formatos para variables que el programador o usuario deben manipular.\n",
    "\n",
    "Comenzamos con sentencias que refieren al formato de un *string*, por ejemplo saber si comienza o termina con determinados caracteres, utilizando los comandos *`startswith()`* y *`endswith()`* respectivamente, a lo que Python respondera con verdadero o falso."
   ]
  },
  {
   "cell_type": "code",
   "execution_count": null,
   "metadata": {
    "collapsed": false
   },
   "outputs": [],
   "source": [
    "cadena_5 = \"construyendo un detector de mentiras\"\n",
    "print cadena_5.startswith(\"construyendo un\")"
   ]
  },
  {
   "cell_type": "code",
   "execution_count": null,
   "metadata": {
    "collapsed": false
   },
   "outputs": [],
   "source": [
    "print cadena_5.endswith(\"detector\")"
   ]
  },
  {
   "cell_type": "markdown",
   "metadata": {},
   "source": [
    "Además podemos verificar si el *string* contiene caracteres sólo numéricos, alfabéticos o alfanuméricos, usando los comandos *`isdigit()`*, *`isalpha()`* y *`isalnum()`* respectivamente."
   ]
  },
  {
   "cell_type": "code",
   "execution_count": null,
   "metadata": {
    "collapsed": false
   },
   "outputs": [],
   "source": [
    "cadena_6 = \"ano\"\n",
    "print cadena_6.isdigit()"
   ]
  },
  {
   "cell_type": "code",
   "execution_count": null,
   "metadata": {
    "collapsed": false
   },
   "outputs": [],
   "source": [
    "cadena_7 = \"1987\"\n",
    "print cadena_7.isalpha()"
   ]
  },
  {
   "cell_type": "code",
   "execution_count": null,
   "metadata": {
    "collapsed": false
   },
   "outputs": [],
   "source": [
    "cadena_8 = cadena_6 + cadena_7\n",
    "print cadena_8\n",
    "print cadena_8.isalnum()"
   ]
  },
  {
   "cell_type": "markdown",
   "metadata": {},
   "source": [
    "Luego podemos intentar con con otras características de formato, como por ejemplo saber si la cadena contiene caracteres sólo mayúsculas,sólo minúsculas o inclusive algún formato especifico como de título, usando los comandos *`isupper()`*, *`islower()`* y por último *`istitle()`* "
   ]
  },
  {
   "cell_type": "code",
   "execution_count": null,
   "metadata": {
    "collapsed": false
   },
   "outputs": [],
   "source": [
    "nombre = \"isaac\"\n",
    "print nombre.isupper()"
   ]
  },
  {
   "cell_type": "code",
   "execution_count": null,
   "metadata": {
    "collapsed": false
   },
   "outputs": [],
   "source": [
    "apellido = \"asimov\".upper()\n",
    "print apellido.islower()\n",
    "respuesta = apellido.islower()\n",
    "print respuesta"
   ]
  },
  {
   "cell_type": "code",
   "execution_count": null,
   "metadata": {
    "collapsed": false
   },
   "outputs": [],
   "source": [
    "nombre_completo = nombre.title() + apellido.title()\n",
    "\n",
    "print nombre_completo"
   ]
  },
  {
   "cell_type": "markdown",
   "metadata": {},
   "source": [
    "La última caracteristica de formato aplicada desde una operación lógica será si la cadena contiene sólo espacios en blanco, para lo que utilizaremos el comando *`isspace()`* como sigue a continuación."
   ]
  },
  {
   "cell_type": "code",
   "execution_count": null,
   "metadata": {
    "collapsed": false
   },
   "outputs": [],
   "source": [
    "nombre_completo = \"isaac asimov\".title()\n",
    "print nombre_completo.isspace()"
   ]
  },
  {
   "cell_type": "markdown",
   "metadata": {},
   "source": [
    "### 4. Sentencias de condicionamiento"
   ]
  },
  {
   "cell_type": "markdown",
   "metadata": {},
   "source": [
    "Por último en este tutorial introduciremos una sentencia de concionamiento que nos permitira ampliar el espectro de aplicacion de operaciones lógicas a partir de elementos básicos."
   ]
  },
  {
   "cell_type": "code",
   "execution_count": null,
   "metadata": {
    "collapsed": false
   },
   "outputs": [],
   "source": [
    "contrasena_1 = \"abcd1234\"\n",
    "\n",
    "if len(contrasena_1)<10:\n",
    "    print \"la contrasena contiene menos de 10 caracteres\"\n",
    "else:\n",
    "    print \"contrasena válida\""
   ]
  },
  {
   "cell_type": "code",
   "execution_count": null,
   "metadata": {
    "collapsed": false
   },
   "outputs": [],
   "source": [
    "contrasena_2 = \"abcd1234ab\"\n",
    "respuesta = contrasena_2.islower()\n",
    "\n",
    "if len(contrasena_2)<10:\n",
    "    print \"la contrasena contiene menos de 10 caracteres\"\n",
    "elif respuesta == True:\n",
    "    print \"la contrasena debe contener al menos 1 caracter mayúscula\"\n",
    "else:\n",
    "    print \"contrasena válida\""
   ]
  },
  {
   "cell_type": "markdown",
   "metadata": {},
   "source": [
    "### 5. Ejercicio de práctica"
   ]
  },
  {
   "cell_type": "markdown",
   "metadata": {},
   "source": [
    "Para aplicar lo aprendido en este tutorial, se deja el ejercicio de crear una pequeña rutina que verifique si los datos referente a las variables *`nombre_usuario`* y *`contrasena`* cumplen con la siguientes condiciones:\n",
    "\n",
    " * El nombre de usario debe encontrarse en formato de título\n",
    " * El nombre de usuario sólo debe contener caracteres alfabéticos\n",
    " * Para la contrasena se debe especificar que si tiene menor a 5 caracteres no es válida\n",
    " * Si la contrasena tiene menos de 8 caracteres es riesgosa y mayor o igual a 10 es segura\n",
    " * La contrasena debe ser de tipo alfanumérica y no debe tener espacios en blanco\n",
    " * Por último la contrasena debe contner mayúsculas y minúsculas"
   ]
  },
  {
   "cell_type": "code",
   "execution_count": null,
   "metadata": {
    "collapsed": true
   },
   "outputs": [],
   "source": [
    ">>> desarrollo ejercicio"
   ]
  }
 ],
 "metadata": {
  "kernelspec": {
   "display_name": "Python 2",
   "language": "python",
   "name": "python2"
  },
  "language_info": {
   "codemirror_mode": {
    "name": "ipython",
    "version": 2
   },
   "file_extension": ".py",
   "mimetype": "text/x-python",
   "name": "python",
   "nbconvert_exporter": "python",
   "pygments_lexer": "ipython2",
   "version": "2.7.10"
  }
 },
 "nbformat": 4,
 "nbformat_minor": 0
}
