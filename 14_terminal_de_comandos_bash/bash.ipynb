{
 "cells": [
  {
   "cell_type": "markdown",
   "metadata": {},
   "source": [
    "<img src=\"images/utfsm.png\" alt=\"\" width=\"100px\" align=\"right\"/>\n",
    "# USM Numérica"
   ]
  },
  {
   "cell_type": "markdown",
   "metadata": {},
   "source": [
    "## Licencia y configuración del laboratorio\n",
    "Ejecutar la siguiente celda mediante *`Ctr-S`*."
   ]
  },
  {
   "cell_type": "code",
   "execution_count": 3,
   "metadata": {
    "collapsed": false
   },
   "outputs": [
    {
     "data": {
      "text/html": [
       "<style>\n",
       "\n",
       "/*********************************************\n",
       " * CHANGE CURSIVE FOR RED\n",
       " *********************************************/\n",
       "em {font-style: normal !important;\n",
       "    color: #800000;}\n",
       "\n",
       "</style>\n"
      ],
      "text/plain": [
       "<IPython.core.display.HTML object>"
      ]
     },
     "execution_count": 3,
     "metadata": {},
     "output_type": "execute_result"
    }
   ],
   "source": [
    "\"\"\"\n",
    "IPython Notebook v4.0 para python 3.0\n",
    "Librerías adicionales: \n",
    "Contenido bajo licencia CC-BY 4.0. Código bajo licencia MIT. \n",
    "(c) Sebastian Flores, Christopher Cooper, Alberto Rubio, Pablo Bunout.\n",
    "\"\"\"\n",
    "# Configuración para recargar módulos y librerías dinámicamente\n",
    "%reload_ext autoreload\n",
    "%autoreload 2\n",
    "\n",
    "# Configuración para graficos en línea\n",
    "%matplotlib inline\n",
    "\n",
    "# Configuración de estilo\n",
    "from IPython.core.display import HTML\n",
    "HTML(open(\"./style/style.css\", \"r\").read())"
   ]
  },
  {
   "cell_type": "markdown",
   "metadata": {},
   "source": [
    "## Introducción a BASH"
   ]
  },
  {
   "cell_type": "markdown",
   "metadata": {},
   "source": [
    "Antes de comenzar debemos saber que Bash es un programa informático usado como intérprete de comandos \n",
    "o instrucciones dadas por un usuario, las cuales son escritas en alguna interfaz gráfica o comúnmente \n",
    "una terminal. Esas instrucciones son interpretadas por Bash para luego enviar dichas órdenes al Núcleo \n",
    "o Kernel del sistema operativo.\n",
    "\n",
    "Cada sistema operativo se encuentra conformado por un Núcleo particular, que se encarga de interactuar \n",
    "con la computadora siendo una especie de cerebro capaz de organizar, administrar y distribuir los recursos \n",
    "físicos de esta, tales como memoria, procesador, forma de almacenamiento, entre otros.\n",
    "\n",
    "\n",
    "\n",
    "<img src=\"imbash.png\"width=\"700px\">\n",
    "\n",
    "\n",
    "\n",
    "Bash (Bourne-Again-Shell) es un lenguaje de programación basado en Bourne-Shell, el cual fue creado para \n",
    "sistemas Unix en la década de los 70, siendo el sustituto natural y de acceso libre de este a partir del \n",
    "año 1987 siendo compatible con la mayoría de sistemas Unix, GNU/Linux y en algunos casos con Microsoft-Windows \n",
    "y Apple. \n"
   ]
  },
  {
   "cell_type": "markdown",
   "metadata": {},
   "source": [
    "## Objetivos"
   ]
  },
  {
   "cell_type": "markdown",
   "metadata": {},
   "source": [
    "1. Operaciones básicas para crear, abrir y cambiarse de directorio\n",
    "2. Operaciones para crear un archivo, copiar y cambiarlo de directorio\n",
    "3. Visualizador gráfico de directorios y archivos\n",
    "4. Visualizador de datos y editor de un archivo de texto\n",
    "5. Ejercicio de práctica\n",
    "\n"
   ]
  },
  {
   "cell_type": "markdown",
   "metadata": {},
   "source": [
    "### 1. Operaciones para crear, abrir y cambiar de directorio\n"
   ]
  },
  {
   "cell_type": "markdown",
   "metadata": {},
   "source": [
    "Este es el tipo de operaciones más básicas que un usuario ejecuta en un sistema operativo, los siguientes comandos nos permiten ubicarnos en alguna carpeta para tener acceso a algún archivo o material en específico, crear carpetas o directorios para almacenar información deseada entre otros.\n",
    "\n",
    "La acción más simple para comenzar será ingresar a un directorio o carpeta deseada usando el comando *`cd`* como sigue:\n",
    "```\n",
    "cd <directorio>\n",
    "```\n",
    "Una extensión de este recurso es la posibilidad de colocar una secuencia de directorios para llegar a la ubicación deseada, separando los nombres por un slash del siguiente modo.\n",
    "```\n",
    "cd <directorio_1>/<subdirectorio_2>/<subdirectorio_3>\n",
    "```\n",
    "Podemos visualizar en la terminal el contenido de este directorio con el comando *`ls`* y luego crear un nuevo sub-directorio (o carpeta) dentro del directorio en el cual nos ubicamos con *`mkdir`*:\n",
    "```\n",
    "mkdir <subdirectorio>\n",
    "```\n",
    "Mencionamos además una opción con el comando anterior, que nos permite crear varios sub-directorios a la vez escribiendo sus nombres respectivos uno al lado del otro, separados por un espacio.\n",
    "```\n",
    "mkdir <subdirectorio_1> <subdirectorio_2> ... <subdirectorio_N>\n",
    "```\n",
    "\n",
    "Además como detalle si el nombre de nuestro directorio se conforma por palabras separadas por espacio, entonces conviene por defecto escribir el nombre completo entre comillas, puesto que de lo contrario Bash considerará cada palabra separada por un espacio como un subdirectorio diferente.\n",
    "```\n",
    "mkdir <\"nombre subdirectorio\">\n",
    "```\n",
    "\n",
    "\n",
    "Si queremos regresar a una ubicación anterior basta los comandos *`cd ..`* o *`cd -`* y si queremos volver al directorio original desde donde se abrió la terminal usamos *`cd ~`*. \n",
    "\n",
    "Es posible borrar un directorio con su contenido al interior escribiendo el siguiente comando: \n",
    "```Bash\n",
    "rm -r <directorio>\n",
    "```\n",
    "Finalmente un comando que nos permite visualizar rápidamente nuestra ubicación actual y las precedentes es *`pwd`*."
   ]
  },
  {
   "cell_type": "markdown",
   "metadata": {},
   "source": [
    "### 2. Operaciones para crear, copiar y eliminar archivos"
   ]
  },
  {
   "cell_type": "markdown",
   "metadata": {},
   "source": [
    "Un paso siguiente a lo visto en el punto anterior es la creación de algún tipo de archivo, realizando operaciones básicas como copiarlo de un directorio a otro, cambiarlo de ubicación o borrarlo.\n",
    "\n",
    "Para crear un archivo debemos ingresar al directorio en el cual deseamos guardarlo con el comando *`cd`* y luego de esto podemos crear el archivo con el argumento *`>`* de la siguiente manera.\n",
    "```\n",
    "> <archivo.tipo>\n",
    "```  \n",
    "Por defecto el archivo se crea en el directorio actual de nuestra ubicación, recordar que con pwd podemos visualizar la cadena de directorios y subdirectorios hasta la ubicación actual.\n",
    "\n",
    "Debemos hacer referencia al comando *`echo`*, este consiste en una función interna del intérprete de comandos que nos permite realizar más de una acción al combinarlo de distintas maneras con otros comandos o variables. Uno de los usos más comunes es para la impresión de algún texto en la terminal.\n",
    "```\n",
    "echo <texto a imprimir>\n",
    "``` \n",
    "También nos permite imprimir un texto en un archivo específico agregando *`echo <texto a imprimir> < <archivo sobre el que se imprime>`*, entre muchas otras opciones que la función *`echo`* nos permite realizar y que es posible profundizar con la práctica, pero estas las postergaremos para la siguiente sección.\n",
    "\n",
    "Continuamos con el comando *`mv`*, que refiere a \"move\",  el cual sirve para mover algún archivo ya creado a un nuevo directorio.\n",
    "```\n",
    "mv <archivo.tipo> <directorio>\n",
    "```\n",
    "También sirve para mover un directorio dentro de otro (mover *directorio_1* al *direcotorio_2*), para que el comando se ejecute correctamente ambos directorios deben estar en una misma ubicación.\n",
    "```\n",
    "mv <directorio_1> <directorio_2>\n",
    "```\n",
    "Una operación similar a la anterior es copiar un archivo y llevarlo a un directorio particular, con la diferencia que una vez realizada la acción se tendrán 2 copias del mismo archivo, una en el directorio original y la segunda en el nuevo directorio.\n",
    "```\n",
    "cp <archivo.tipo> <directorio>\n",
    "```\n",
    "Supongamos que queremos copiar un archivo existente en otro directorio y reemplazarlo por un archivo del directorio actual, podemos hacer esto de la siguiente manera.\n",
    "```\n",
    "cp ~/directorio_fuente/<archivo_fuente> <archivo_local>\n",
    "```\n",
    "Lo anterior se hace desde el directorio al cual deseamos copiar el archivo fuente y *~/directoiro_fuente/* hace alusión al directorio en el cual se encuentra este archivo.\n",
    "\n",
    "Si por otra parte queremos copiar un archivo fuente y nos encontramos en el directorio en el cual este se encuentra, para realizar la copia en otro directorio, sin necesariamente hacer un reemplazo por otro archivo, se puede con:\n",
    "```\n",
    "cp <archivo_fuente_1> <archivo_fuente_2> ~/directorio_desitno/\n",
    "```\n",
    "\n",
    "Del mismo modo que para un directorio, si queremos borrar un archivo creado podemos hacerlo con el comando *`rm -r`*.\n",
    "```\n",
    "rm -r <archivo.tipo>\n",
    "```\n",
    "Y si queremos borrar una serie de archivos lo hacemos escribiendo consecutivamente.\n",
    "```\n",
    "rm -r <archivo_1.tipo> <archivo_2.tipo> ... <archivo_N.tipo>\n",
    "```\n"
   ]
  },
  {
   "cell_type": "markdown",
   "metadata": {},
   "source": [
    "### 3. Visualizador de estructura de directorios y archivos"
   ]
  },
  {
   "cell_type": "markdown",
   "metadata": {},
   "source": [
    "El comando *`tree`* es una forma útil y rápida de visualizar gráficamente la estructura de directorios y archivo pudiendo ver claramente la relación entre estos. Solo debemos escribir el comando para que automáticamente aparezca esta información en pantalla (dentro de la terminal) apareciendo en orden alfabético, por defecto debe ejecutarse ubicándose en el directorio deseado visualizando la estructura dentro de este.\n",
    "\n",
    "En caso de que este no se encuentre instalado en nuestro sistema operativo, a modo de ejercicio, primero debemos escribir los siguientes comandos.\n",
    "```\n",
    "sudo apt-get install <tree>\n",
    "```\n",
    "\n"
   ]
  },
  {
   "cell_type": "markdown",
   "metadata": {},
   "source": [
    "### 4. Visualizar, editar y concatenar un archivo de texto"
   ]
  },
  {
   "cell_type": "markdown",
   "metadata": {},
   "source": [
    "Para visualizar el contenido de un texto previamente creado, pudiendo hacerlo con el comando visto anteriormente, *`echo > arhcivo.tipo`*, utilizamos el comando *`cat`*.\n",
    "```\n",
    "cat <archivo.tipo>\n",
    "```\n",
    "Luego si queremos visualizar varios archivos en la terminal, lo hacemos agregando uno al lado del otro después del comando *`cat`*.\n",
    "```\n",
    "cat <archivo_1.tipo> <archivo_2.tipo> ... <archivo_N.tipo>\n",
    "```\n",
    "Existen muchos argumentos que nos permiten visualizar de distinta forma el contenido de un archivo en la terminal, por ejemplo enumerar las filas de algún texto, *`cat -n`*, otra opción sería que solo se enumerara las filas que tienen algún contenido, *`cat -b`*.\n",
    "\n",
    "En caso de que queramos enumerar solo las filas con texto, pero este tiene demasiadas filas en blanco y buscamos reducirlas a una sola de modo de ahorrar espacio en la terminal, podemos hacerlo agregando el argumento *-s* como sigue.\n",
    "```\n",
    "cat -sb <archivo.tipo>\n",
    "```\n",
    "Editar o imprimir un texto en un archivo es posible hacerlo usando la función *`echo`* como sigue.\n",
    "```\n",
    "echo <texto a imprimir> ./archivo.txt\n",
    "``` "
   ]
  },
  {
   "cell_type": "markdown",
   "metadata": {},
   "source": [
    "Similar a sudo, less es un programa usado como visualizador de archivos de texto que funciona como un comando interpretado desde la terminal. Este permite visualizar completamente el archivo de texto usando por defecto las flechas del teclado para avanzar o retroceder en el visualizador.\n",
    "\n",
    "Una de las ventajas de un programa como less, es que puede añadirse comandos para ejecutar acciones de forma rápida en modo de comandos que resulta por defecto al ejecutar less, a continuación presentamos algunos comandos básicos.\n",
    "```\n",
    "G: permite visualizar el final del texto \n",
    "```\n",
    "```\n",
    "g: permite visualizar el inicio del texto\n",
    "```\n",
    "```\n",
    "h: nos proporciona ayuda respecto a comandos posibles\n",
    "```\n",
    "```\n",
    "q: permite salir de la aplicación dentro del visualizador less\n",
    "```\n",
    "Para modificar el texto una de las formas es cargar algún editor de texto como por ejemplo el Visual.\n",
    "```\n",
    "v: ejecutar el editor de texto\n",
    "```"
   ]
  },
  {
   "cell_type": "markdown",
   "metadata": {
    "collapsed": true
   },
   "source": [
    "### 5. Ejercicio de práctica"
   ]
  },
  {
   "cell_type": "markdown",
   "metadata": {},
   "source": [
    "Para redondear lo visto en este tutorial se dejara como ejercicio las siguientes instrucciones:\n",
    "\n",
    "  * Crear una carpeta o directorio principal\n",
    "  * En ella se debe copiar 2 archivos de textos provenientes de cualquier dirección\n",
    "  * Crear un archivo de texto el cual tenga por nombre \"Texto Principal\" y se imprima \"concatenación de textos\"\n",
    "  * Crear una segunda carpeta dentro de la principal \n",
    "  * Concatenar los 2 archivos copiados con el archivo creado\n",
    "  * Mover el archivo \"Texto Principal\" a la nueva carpeta \n",
    "  * Eliminar las copias de los archivos concatenados\n",
    "  * Visualizar con Tree la estructura y relación de archivos y directorios creados"
   ]
  },
  {
   "cell_type": "code",
   "execution_count": 5,
   "metadata": {
    "collapsed": false
   },
   "outputs": [
    {
     "name": "stderr",
     "output_type": "stream",
     "text": [
      "UsageError: %%bash is a cell magic, but the cell body is empty."
     ]
    }
   ],
   "source": [
    "%%bash"
   ]
  }
 ],
 "metadata": {
  "kernelspec": {
   "display_name": "Python 2",
   "language": "python",
   "name": "python2"
  },
  "language_info": {
   "codemirror_mode": {
    "name": "ipython",
    "version": 2
   },
   "file_extension": ".py",
   "mimetype": "text/x-python",
   "name": "python",
   "nbconvert_exporter": "python",
   "pygments_lexer": "ipython2",
   "version": "2.7.10"
  }
 },
 "nbformat": 4,
 "nbformat_minor": 0
}
