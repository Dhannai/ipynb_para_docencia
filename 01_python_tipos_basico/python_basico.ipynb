{
 "cells": [
  {
   "cell_type": "markdown",
   "metadata": {},
   "source": [
    "<img src=\"images/utfsm.png\" alt=\"\" width=\"200px\" align=\"right\"/>\n",
    "# USM Numérica\n",
    "## Introducción a Python\n",
    "\n",
    "### Objetivos\n",
    "1. Conocer una breve introducción a Python y IPython.\n",
    "2. Conocer y utilizar los diferentes tipos de datos en Python junto con sus operatorias."
   ]
  },
  {
   "cell_type": "markdown",
   "metadata": {},
   "source": [
    "## 0.1 Instrucciones\n",
    "Las instrucciones de instalación y uso de un ipython notebook se encuentran en el siguiente [link](link).\n",
    "\n",
    "Después de descargar y abrir el presente notebook, recuerden:\n",
    "* Desarrollar los problemas de manera secuencial.\n",
    "* Guardar constantemente con *`Ctr-S`* para evitar sorpresas.\n",
    "* Reemplazar en las celdas de código donde diga *`FIX_ME`* por el código correspondiente.\n",
    "* Ejecutar cada celda de código utilizando *`Ctr-Enter`*\n",
    "\n",
    "## 0.2 Licenciamiento y Configuración\n",
    "Ejecutar la siguiente celda mediante *`Ctr-S`*."
   ]
  },
  {
   "cell_type": "code",
   "execution_count": 2,
   "metadata": {
    "collapsed": false
   },
   "outputs": [
    {
     "data": {
      "text/html": [
       "<style>\n",
       "\n",
       "/*********************************************\n",
       " * CHANGE CURSIVE FOR RED\n",
       " *********************************************/\n",
       "em {font-style: normal !important;\n",
       "    color: #800000;}\n",
       "\n",
       "</style>\n"
      ],
      "text/plain": [
       "<IPython.core.display.HTML object>"
      ]
     },
     "execution_count": 2,
     "metadata": {},
     "output_type": "execute_result"
    }
   ],
   "source": [
    "\"\"\"\n",
    "IPython Notebook v4.0 para python 3.0\n",
    "Librerías adicionales: \n",
    "Contenido bajo licencia CC-BY 4.0. Código bajo licencia MIT. \n",
    "(c) Sebastian Flores, Christopher Cooper, Alberto Rubio, Pablo Bunout.\n",
    "\"\"\"\n",
    "# Configuración para recargar módulos y librerías dinámicamente\n",
    "%reload_ext autoreload\n",
    "%autoreload 2\n",
    "\n",
    "# Configuración para graficos en línea\n",
    "%matplotlib inline\n",
    "\n",
    "# Configuración de estilo\n",
    "from IPython.core.display import HTML\n",
    "HTML(open(\"./style/style.css\", \"r\").read())"
   ]
  },
  {
   "cell_type": "markdown",
   "metadata": {},
   "source": [
    "### 1. ¿Qué es Python y IPython?\n",
    "* Python es un lenguaje de programación de alto nivel, poderoso y fácil de aprender para nuevos usuarios. Posee un enfoque simple pero efectivo hacia la programación orientada a objetos.\n",
    "* En comparación con otros lenguajes de programación lo distinguen las siguientes ventajas:\n",
    "  * Ofrece en general mayor chequeo de errores que por ejemplo C.\n",
    "  * Es un lenguaje de programación interpretado por lo que no requiere de compilación.\n",
    "  * Al ser de alto nivel permite escribir programas complejos de forma compacta y fácil de entender principalmente debido a los tipos de datos de alto nivel y no requiere definir variables y funciones.\n",
    "* IPython es un visor interactivo (por eso \"I\"Python) que a través del uso de colores y funcionalidades extras acerca más la experiencia de programación al Usuario. Sus principales ventajas son:\n",
    "    * Uso de colores para resaltar errores y lineas.\n",
    "    * Autocompletación de variables usando tab.\n",
    "    * Está basado en una arquitectura en paralelo lo que le permite ejecutar diferentes operaciones a la vez: debugging, desarrollo, ejecución, etc.\n",
    "* Fácil de instalar en Windows (a través de Anaconda, Entough Canopy), Linux (centro de software)."
   ]
  },
  {
   "cell_type": "markdown",
   "metadata": {},
   "source": [
    "### 2. Tipos de datos en Python\n",
    "Un tipo de dato es la propiedad de un valor que determina: su dominio (valores que puede tomar), las operaciones que se le pueden aplicar y la representación interna que usa el propio computador.\n",
    "\n",
    "En Python existen esencialmente:\n",
    "\n",
    "    (a) Números enteros (int).\n",
    "    (b) Números reales o de punto flotante (float).\n",
    "    (c) Números complejos (complex).\n",
    "    (d) Valores lógicos (bool).\n",
    "    (e) Texto (str).\n",
    "\n",
    "A continuación veremos las características de cada uno por separado."
   ]
  },
  {
   "cell_type": "markdown",
   "metadata": {},
   "source": [
    "### 2.1 Números Enteros.\n",
    "Como su nombre lo dice son números enteros a las cuales se le pueden aplicar las operatorias básicas conocidas: suma(\"+\"), sustracción (\"-\"), multiplicación (\" * \"), división (\"/\"), módulo (\"%\"), potenciación (\" *** \")."
   ]
  },
  {
   "cell_type": "code",
   "execution_count": null,
   "metadata": {
    "collapsed": false,
    "scrolled": true
   },
   "outputs": [],
   "source": [
    "2+2"
   ]
  },
  {
   "cell_type": "code",
   "execution_count": null,
   "metadata": {
    "collapsed": false
   },
   "outputs": [],
   "source": [
    "1-10"
   ]
  },
  {
   "cell_type": "code",
   "execution_count": null,
   "metadata": {
    "collapsed": false
   },
   "outputs": [],
   "source": [
    "3*2"
   ]
  },
  {
   "cell_type": "code",
   "execution_count": null,
   "metadata": {
    "collapsed": false
   },
   "outputs": [],
   "source": [
    "4/5"
   ]
  },
  {
   "cell_type": "code",
   "execution_count": null,
   "metadata": {
    "collapsed": false
   },
   "outputs": [],
   "source": [
    "4%3"
   ]
  },
  {
   "cell_type": "code",
   "execution_count": null,
   "metadata": {
    "collapsed": false
   },
   "outputs": [],
   "source": [
    "3**2"
   ]
  },
  {
   "cell_type": "markdown",
   "metadata": {},
   "source": [
    "### ¿Qué pasó en esta última operación?, ¿ Por qué la división no funcionó? \n",
    "Como bien sabemos la división de números enteros requiere normalmente de la extensión hacia el conjunto de los racionales y para potencias fraccionarias se requiere una extensión hacia los irracionales. Dado lo anterior es que en Python interpreta por defecto los números que solo poseen parte entera, valga la redundancia, como enteros.\n",
    "\n",
    "Para poder realizar todas las operaciones que deseemos es que existe el conjunto de los números de punto flotante que veremos a continuación."
   ]
  },
  {
   "cell_type": "markdown",
   "metadata": {},
   "source": [
    "### 2.2 Números reales o de punto flotante.\n",
    "Como bien sabemos, los números reales realmente no existen, por lo cual el computador debe interpretar los números reales a través de su mejor aproximación. \n",
    "La operatoria con estos nos permite utilizar las operaciones matemáticas que todos bien conocemos sin problema. Para ingresar un número de punto flotante se debe ingresar su parte entera seguida por su parte decimal. Sin embargo, si queremos operar como número de punto flotante a un número entero se debe agregar un 0 luego del punto. Veamos que nos entrega el computador en el caso de la división anterior con números de punto flotante:"
   ]
  },
  {
   "cell_type": "code",
   "execution_count": null,
   "metadata": {
    "collapsed": false
   },
   "outputs": [],
   "source": [
    "4.0/5.0"
   ]
  },
  {
   "cell_type": "markdown",
   "metadata": {},
   "source": [
    "#### 2.3 Números complejos\n",
    "Python nos permite operar con números complejos a través de la sintaxis \"a+bj\", donde \"j\" denota al número imaginario en el sistema. Veamos algunos ejemplos:"
   ]
  },
  {
   "cell_type": "code",
   "execution_count": null,
   "metadata": {
    "collapsed": false
   },
   "outputs": [],
   "source": [
    "(3-2j)*(-2j)"
   ]
  },
  {
   "cell_type": "code",
   "execution_count": null,
   "metadata": {
    "collapsed": false
   },
   "outputs": [],
   "source": [
    "(12+5j)/(4-3j)"
   ]
  },
  {
   "cell_type": "markdown",
   "metadata": {},
   "source": [
    "Dado un número complejo \"a\" , también podemos encontrar su parte real e imaginaria mediante la sintaxis \"a.real\" y \"a.imag\", mientras que su módulo puede ser determinado a través de la función \"abs\". Veamos un ejemplo de estas operatorias especiales:"
   ]
  },
  {
   "cell_type": "code",
   "execution_count": null,
   "metadata": {
    "collapsed": false
   },
   "outputs": [],
   "source": [
    "a=4+6j\n",
    "a.real\n",
    "\n"
   ]
  },
  {
   "cell_type": "code",
   "execution_count": null,
   "metadata": {
    "collapsed": false
   },
   "outputs": [],
   "source": [
    "a.imag"
   ]
  },
  {
   "cell_type": "code",
   "execution_count": null,
   "metadata": {
    "collapsed": false
   },
   "outputs": [],
   "source": [
    "abs(a)"
   ]
  },
  {
   "cell_type": "markdown",
   "metadata": {},
   "source": [
    "### 2.4 Valores lógicos o booleanos\n",
    "Los valores lógicos son aquellos que no tienen una representación númerica, mas bien son únicamente verdadero o falso. Estos nos permitirán más adelante trabajar por ejemplo con los condicionales. Un ejemplo sencillo sobre como obtener booleanos viene de aplicar las operaciones de orden en números. Por ejemplo la comparación de igualdad \"== \", o las desigualdades \"<=\", \"<=\", \"<\", \">\"."
   ]
  },
  {
   "cell_type": "code",
   "execution_count": null,
   "metadata": {
    "collapsed": false
   },
   "outputs": [],
   "source": [
    "3==4"
   ]
  },
  {
   "cell_type": "code",
   "execution_count": null,
   "metadata": {
    "collapsed": false
   },
   "outputs": [],
   "source": [
    "100==100"
   ]
  },
  {
   "cell_type": "code",
   "execution_count": null,
   "metadata": {
    "collapsed": false
   },
   "outputs": [],
   "source": [
    "3.4 <= 5"
   ]
  },
  {
   "cell_type": "markdown",
   "metadata": {},
   "source": [
    "### 2.5 Texto o Strings\n",
    "Los strings son las cadenas de texto que nos permiten, por ejemplo, imprimir información por pantalla. Al igual que los ejemplos de datos anteriores poseen características y operatorias propias que nos facilitan tremendamente la utilización de éstos. \n",
    "\n",
    "Un aspecto importante de recaltar es que en Python, los espacios en blanco \" \" son usados para estructurar código (indentación). En general, la indentación nos permite hacer el código más legible y podemos hacerlo fácilmente a través de la tecla tab.\n",
    "\n",
    "Adicionalmente para escribir comentarios al interior del código es posible hacerlo a través de \" \", donde en el espacio podemos comentar lo que deseemos. Si necesitamos comentarios en múlpiples lineas podemos hacerlo a través de la triple comilla:\n",
    "\"\"\" ...\n",
    ".\n",
    ".\n",
    ".\n",
    "\"\"\""
   ]
  },
  {
   "cell_type": "markdown",
   "metadata": {},
   "source": [
    "Es importante recalcar que de forma interna Python interpreta los strings como cadenas de éstos, por lo cual podemos, por ejemplo, acceder a un determinado caracter de una cadena. Más adelante fijaremos éstos conceptos a través de la introducción de arreglos. "
   ]
  },
  {
   "cell_type": "code",
   "execution_count": null,
   "metadata": {
    "collapsed": false
   },
   "outputs": [],
   "source": [
    "Variable=\"Kaiserslautern\"[6]\n",
    "Variable"
   ]
  },
  {
   "cell_type": "markdown",
   "metadata": {},
   "source": [
    "#### 2.5.1 Operaciones especiales con Strings.\n",
    "Para la adecuada manipulación de Strings poseemos las siguientes operatorias especiales:\n",
    "\n",
    "* len(): Retorna el largo de un string.\n",
    "* lower(): Escribe toda una cadena de strings en minúscula. Se utiliza a través de la sintaxis variable.lower().\n",
    "* upper(): Escribe toda una cadena de strings en mayúscula. Se utiliza a través de la sintaxis variable.upper().\n",
    "* str(): Transforma a string variables que no lo son.\n",
    "* Concatenación: Se realiza a través del signo \"+\".\n",
    "\n",
    "Veamos algunos ejemplos:"
   ]
  },
  {
   "cell_type": "code",
   "execution_count": null,
   "metadata": {
    "collapsed": false
   },
   "outputs": [],
   "source": [
    "len(\"Ich glaube das ist eine gute Idee\")"
   ]
  },
  {
   "cell_type": "code",
   "execution_count": null,
   "metadata": {
    "collapsed": false
   },
   "outputs": [],
   "source": [
    "var=\" Der Himmel uber Berlin \"\n",
    "var.lower()"
   ]
  },
  {
   "cell_type": "code",
   "execution_count": null,
   "metadata": {
    "collapsed": false
   },
   "outputs": [],
   "source": [
    "var2=\" ist blau und ein bisschen schwarz\"\n",
    "var2.upper()"
   ]
  },
  {
   "cell_type": "code",
   "execution_count": null,
   "metadata": {
    "collapsed": false
   },
   "outputs": [],
   "source": [
    "\" Der Himmel uber Berlin \"+\" ist blau und ein bisschen schwarz\""
   ]
  },
  {
   "cell_type": "code",
   "execution_count": null,
   "metadata": {
    "collapsed": true
   },
   "outputs": [],
   "source": []
  }
 ],
 "metadata": {
  "kernelspec": {
   "display_name": "Python 3",
   "language": "python",
   "name": "python3"
  },
  "language_info": {
   "codemirror_mode": {
    "name": "ipython",
    "version": 3
   },
   "file_extension": ".py",
   "mimetype": "text/x-python",
   "name": "python",
   "nbconvert_exporter": "python",
   "pygments_lexer": "ipython3",
   "version": "3.4.0"
  }
 },
 "nbformat": 4,
 "nbformat_minor": 0
}
