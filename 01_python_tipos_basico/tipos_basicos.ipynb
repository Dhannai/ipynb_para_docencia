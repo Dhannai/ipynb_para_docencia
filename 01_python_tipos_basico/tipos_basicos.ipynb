{
 "cells": [
  {
   "cell_type": "markdown",
   "metadata": {},
   "source": [
    "<img src=\"images/utfsm.png\" alt=\"\" width=\"200px\" align=\"right\"/>\n",
    "# USM Numérica\n",
    "## Introducción a Python\n",
    "\n",
    "### Objetivos\n",
    "1. Conocer y diferencias python y ipython.\n",
    "2. Conocer y utilizar los diferentes tipos de datos en Python junto con sus operatorias."
   ]
  },
  {
   "cell_type": "markdown",
   "metadata": {},
   "source": [
    "## 0.1 Instrucciones\n",
    "Instrucciones de [instalación](https://github.com/usantamaria/ipynb_para_docencia/wiki/Instalacion) y [utilización](https://github.com/usantamaria/ipynb_para_docencia/wiki/Utilizacion) de un ipython notebook.\n",
    "\n",
    "Recuerden:\n",
    "* Desarrollar los problemas de manera secuencial.\n",
    "* Guardar constantemente con *`Ctr-S`* para evitar sorpresas.\n",
    "* Reemplazar en las celdas de código donde diga *`FIX_ME`* por el código correspondiente.\n",
    "* Ejecutar cada celda de código utilizando *`Ctr-Enter`*\n",
    "\n",
    "## 0.2 Licenciamiento y Configuración\n",
    "Ejecutar la siguiente celda mediante *`Ctr-Enter`*."
   ]
  },
  {
   "cell_type": "code",
   "execution_count": 1,
   "metadata": {
    "collapsed": false
   },
   "outputs": [
    {
     "data": {
      "text/html": [
       "<style>\n",
       "\n",
       "/*********************************************\n",
       " * CHANGE CURSIVE FOR RED\n",
       " *********************************************/\n",
       "em {font-style: normal !important;\n",
       "    color: #800000;}\n",
       "\n",
       "</style>\n"
      ],
      "text/plain": [
       "<IPython.core.display.HTML object>"
      ]
     },
     "execution_count": 1,
     "metadata": {},
     "output_type": "execute_result"
    }
   ],
   "source": [
    "\"\"\"\n",
    "IPython Notebook v4.0 para python 3.0\n",
    "Librerías adicionales: \n",
    "Contenido bajo licencia CC-BY 4.0. Código bajo licencia MIT. \n",
    "(c) Sebastian Flores, Christopher Cooper, Alberto Rubio, Pablo Bunout.\n",
    "\"\"\"\n",
    "# Configuración para recargar módulos y librerías dinámicamente\n",
    "%reload_ext autoreload\n",
    "%autoreload 2\n",
    "\n",
    "# Configuración para graficos en línea\n",
    "%matplotlib inline\n",
    "\n",
    "# Configuración de estilo\n",
    "from IPython.core.display import HTML\n",
    "HTML(open(\"./style/style.css\", \"r\").read())"
   ]
  },
  {
   "cell_type": "markdown",
   "metadata": {},
   "source": [
    "### 1. ¿Qué es python y ipython?\n",
    "* **Python** es un lenguaje de programación de alto nivel, poderoso y fácil de aprender para nuevos usuarios. Posee un enfoque simple pero efectivo hacia la programación orientada a objetos.\n",
    "* En comparación con otros lenguajes de programación lo distinguen las siguientes ventajas:\n",
    "  * Ofrece en general mayor chequeo de errores que otros lenguajes, por ejemplo C.\n",
    "  * Es un lenguaje de programación interpretado por lo que no requiere de compilación.\n",
    "  * Al ser de alto nivel permite escribir programas complejos de forma compacta y fácil de entender principalmente debido a los tipos de datos de alto nivel y no requiere definir los tipos de variables y funciones.\n",
    "* **IPython** es un visor interactivo (por eso \"I\"Python) que a través del uso de colores y funcionalidades extras acerca más la experiencia de programación al Usuario. Sus principales ventajas son:\n",
    "  * Uso de colores para resaltar tipos de variables, errores y líneas.\n",
    "  * Autocompletación de variables usando tabulación.\n",
    "  * Está basado en una arquitectura en paralelo lo que le permite ejecutar diferentes operaciones a la vez: debugging, desarrollo, ejecución, etc.\n",
    "* Fácil de instalar en Windows (a través de Anaconda, Entough Canopy), Linux (centro de software) y Mac."
   ]
  },
  {
   "cell_type": "markdown",
   "metadata": {},
   "source": [
    "### 2. Tipos de datos en Python\n",
    "Un tipo de dato es la propiedad de un valor que determina: su dominio (valores que puede tomar), las operaciones que se le pueden aplicar y la representación interna que usa el propio computador.\n",
    "En python existen esencialmente:\n",
    "    (a) Números enteros (int).\n",
    "    (b) Números reales o de punto flotante (float).\n",
    "    (c) Números complejos (complex).\n",
    "    (d) Valores lógicos (bool).\n",
    "    (e) Texto (str).\n",
    "\n",
    "A continuación veremos las características de cada uno por separado."
   ]
  },
  {
   "cell_type": "markdown",
   "metadata": {},
   "source": [
    "### 2.1 Números Enteros.\n",
    "Como su nombre lo dice son números enteros a las cuales se le pueden aplicar las operatorias básicas conocidas: suma(`+`), sustracción (`-`), multiplicación (`*`), división flotante (`/`), división entera (`//`), módulo (`%`), potenciación (`**`)."
   ]
  },
  {
   "cell_type": "code",
   "execution_count": 2,
   "metadata": {
    "collapsed": false,
    "scrolled": true
   },
   "outputs": [
    {
     "data": {
      "text/plain": [
       "4"
      ]
     },
     "execution_count": 2,
     "metadata": {},
     "output_type": "execute_result"
    }
   ],
   "source": [
    "2+2"
   ]
  },
  {
   "cell_type": "code",
   "execution_count": 3,
   "metadata": {
    "collapsed": false
   },
   "outputs": [
    {
     "data": {
      "text/plain": [
       "-9"
      ]
     },
     "execution_count": 3,
     "metadata": {},
     "output_type": "execute_result"
    }
   ],
   "source": [
    "1-10"
   ]
  },
  {
   "cell_type": "code",
   "execution_count": 4,
   "metadata": {
    "collapsed": false
   },
   "outputs": [
    {
     "data": {
      "text/plain": [
       "6"
      ]
     },
     "execution_count": 4,
     "metadata": {},
     "output_type": "execute_result"
    }
   ],
   "source": [
    "3*2"
   ]
  },
  {
   "cell_type": "code",
   "execution_count": 5,
   "metadata": {
    "collapsed": false
   },
   "outputs": [
    {
     "data": {
      "text/plain": [
       "0"
      ]
     },
     "execution_count": 5,
     "metadata": {},
     "output_type": "execute_result"
    }
   ],
   "source": [
    "4/5"
   ]
  },
  {
   "cell_type": "code",
   "execution_count": 8,
   "metadata": {
    "collapsed": false
   },
   "outputs": [
    {
     "data": {
      "text/plain": [
       "0"
      ]
     },
     "execution_count": 8,
     "metadata": {},
     "output_type": "execute_result"
    }
   ],
   "source": [
    "4//5"
   ]
  },
  {
   "cell_type": "code",
   "execution_count": 6,
   "metadata": {
    "collapsed": false
   },
   "outputs": [
    {
     "data": {
      "text/plain": [
       "1"
      ]
     },
     "execution_count": 6,
     "metadata": {},
     "output_type": "execute_result"
    }
   ],
   "source": [
    "4%3"
   ]
  },
  {
   "cell_type": "code",
   "execution_count": 7,
   "metadata": {
    "collapsed": false
   },
   "outputs": [
    {
     "data": {
      "text/plain": [
       "9"
      ]
     },
     "execution_count": 7,
     "metadata": {},
     "output_type": "execute_result"
    }
   ],
   "source": [
    "3**2"
   ]
  },
  {
   "cell_type": "markdown",
   "metadata": {},
   "source": [
    "**Observación**: En python 3 la división \"tradicional\" de enteros da un flotante. Esto si bien no es conceptualmente coherente (la operacion de 2 tipos deberia originar el mismo tipo de datos), es en la práctica lo que se busca y es \"pragmaticamente\" más coherente. Si se busca la división entera, es necesario utilizar `//`."
   ]
  },
  {
   "cell_type": "markdown",
   "metadata": {},
   "source": [
    "### 2.2 Números reales o de punto flotante.\n",
    "La operatoria con números flotantes nos permite utilizar las operaciones matemáticas que bien conocemos sin problema. Para ingresar un número de punto flotante se debe ingresar su parte entera seguida por su parte decimal. Sin embargo, si queremos operar como número de punto flotante a un número entero se debe agregar un 0 luego del punto. \n",
    "Veamos que nos entrega el computador en el caso de la división anterior con números de punto flotante:"
   ]
  },
  {
   "cell_type": "code",
   "execution_count": 9,
   "metadata": {
    "collapsed": false
   },
   "outputs": [
    {
     "data": {
      "text/plain": [
       "0.8"
      ]
     },
     "execution_count": 9,
     "metadata": {},
     "output_type": "execute_result"
    }
   ],
   "source": [
    "4.0/5.0"
   ]
  },
  {
   "cell_type": "code",
   "execution_count": 10,
   "metadata": {
    "collapsed": false
   },
   "outputs": [
    {
     "data": {
      "text/plain": [
       "0.8"
      ]
     },
     "execution_count": 10,
     "metadata": {},
     "output_type": "execute_result"
    }
   ],
   "source": [
    "4./5."
   ]
  },
  {
   "cell_type": "markdown",
   "metadata": {},
   "source": [
    "Los numeros reales (o flotantes) tienen las mismas operaciones que los numeros enteros.\n",
    "\n",
    "Los números reales no pueden representarse con precisión infinita en el computador, por lo que resulta necesario considerar que siempre existe un error de redondeo. "
   ]
  },
  {
   "cell_type": "markdown",
   "metadata": {},
   "source": [
    "### 2.3 Números complejos\n",
    "Python nos permite operar con números complejos a través de la sintaxis `a+bj`, donde `j` denota al número imaginario en el sistema. Veamos algunos ejemplos:"
   ]
  },
  {
   "cell_type": "code",
   "execution_count": null,
   "metadata": {
    "collapsed": false
   },
   "outputs": [],
   "source": [
    "(3-2j)*(-2j)"
   ]
  },
  {
   "cell_type": "code",
   "execution_count": null,
   "metadata": {
    "collapsed": false
   },
   "outputs": [],
   "source": [
    "(12+5j)/(4-3j)"
   ]
  },
  {
   "cell_type": "markdown",
   "metadata": {},
   "source": [
    "Dado un número complejo \"a\" , también podemos encontrar su parte real e imaginaria mediante la sintaxis \"a.real\" y \"a.imag\", mientras que su módulo puede ser determinado a través de la función \"abs\". Veamos un ejemplo de estas operatorias especiales:"
   ]
  },
  {
   "cell_type": "code",
   "execution_count": 11,
   "metadata": {
    "collapsed": false
   },
   "outputs": [
    {
     "name": "stdout",
     "output_type": "stream",
     "text": [
      "4.0\n",
      "6.0\n"
     ]
    }
   ],
   "source": [
    "a=4+6j\n",
    "print a.real\n",
    "print a.imag\n",
    "print abs(a)"
   ]
  },
  {
   "cell_type": "markdown",
   "metadata": {},
   "source": [
    "### 2.4 Valores lógicos o booleanos\n",
    "Los valores lógicos son aquellos que únicamente pueden tener valores de verdad: verdadero o falso. Se utilizan principalmente para verificar el estado de verdad de expresiones y evaluar condicionales o estructuras de control. Un ejemplo sencillo sobre como obtener booleanos viene de aplicar las operaciones de orden en números. Por ejemplo la comparación de igualdad \"== \", o las desigualdades \"<=\", \"<=\", \"<\", \">\"."
   ]
  },
  {
   "cell_type": "code",
   "execution_count": null,
   "metadata": {
    "collapsed": false
   },
   "outputs": [],
   "source": [
    "3==4"
   ]
  },
  {
   "cell_type": "code",
   "execution_count": null,
   "metadata": {
    "collapsed": false
   },
   "outputs": [],
   "source": [
    "100==100"
   ]
  },
  {
   "cell_type": "code",
   "execution_count": null,
   "metadata": {
    "collapsed": false
   },
   "outputs": [],
   "source": [
    "3.4 <= 5"
   ]
  },
  {
   "cell_type": "markdown",
   "metadata": {},
   "source": [
    "Cabe destacar que python soporta el uso encadenado de expresiones lógicas:"
   ]
  },
  {
   "cell_type": "code",
   "execution_count": 12,
   "metadata": {
    "collapsed": false
   },
   "outputs": [
    {
     "data": {
      "text/plain": [
       "True"
      ]
     },
     "execution_count": 12,
     "metadata": {},
     "output_type": "execute_result"
    }
   ],
   "source": [
    "x = 10\n",
    "1 <= x <= 100"
   ]
  },
  {
   "cell_type": "markdown",
   "metadata": {},
   "source": [
    "### 2.5 Texto o Strings\n",
    "Los strings son las cadenas de texto que nos permiten, por ejemplo, imprimir información por pantalla. Al igual que los ejemplos de datos anteriores poseen características y operatorias propias que nos facilitan tremendamente la utilización de éstos. \n",
    "\n",
    "Un aspecto importante de recaltar es que en Python, los espacios en blanco \" \" son usados para estructurar código (indentación). En general, la indentación nos permite hacer el código más legible y podemos hacerlo fácilmente a través de la tecla tab.\n",
    "\n",
    "Adicionalmente para escribir comentarios al interior del código es posible hacerlo a través de \" \", donde en el espacio podemos comentar lo que deseemos. Si necesitamos comentarios en múlpiples lineas podemos hacerlo a través de la triple comilla:\n",
    "\"\"\" ...\n",
    ".\n",
    ".\n",
    ".\n",
    "\"\"\""
   ]
  },
  {
   "cell_type": "markdown",
   "metadata": {},
   "source": [
    "Es importante recalcar que de forma interna Python interpreta los strings como cadenas de éstos, por lo cual podemos, por ejemplo, acceder a un determinado caracter de una cadena. Más adelante fijaremos éstos conceptos a través de la introducción de arreglos. "
   ]
  },
  {
   "cell_type": "code",
   "execution_count": 1,
   "metadata": {
    "collapsed": false
   },
   "outputs": [
    {
     "data": {
      "text/plain": [
       "'r'"
      ]
     },
     "execution_count": 1,
     "metadata": {},
     "output_type": "execute_result"
    }
   ],
   "source": [
    "Variable = \"Ex Umbra in Solem\"[6]\n",
    "Variable"
   ]
  },
  {
   "cell_type": "markdown",
   "metadata": {},
   "source": [
    "#### 2.5.1 Operaciones especiales con Strings.\n",
    "Para la adecuada manipulación de Strings poseemos las siguientes operatorias especiales:\n",
    "\n",
    "* len(): Retorna el largo de un string.\n",
    "* lower(): Escribe toda una cadena de strings en minúscula. Se utiliza a través de la sintaxis variable.lower().\n",
    "* upper(): Escribe toda una cadena de strings en mayúscula. Se utiliza a través de la sintaxis variable.upper().\n",
    "* str(): Transforma a string variables que no lo son.\n",
    "* Concatenación: Se realiza a través del signo \"+\".\n",
    "\n",
    "Veamos algunos ejemplos:"
   ]
  },
  {
   "cell_type": "code",
   "execution_count": null,
   "metadata": {
    "collapsed": false
   },
   "outputs": [],
   "source": [
    "len(\"Deseo ante todo expresar a mis conciudadanos\")"
   ]
  },
  {
   "cell_type": "code",
   "execution_count": null,
   "metadata": {
    "collapsed": false
   },
   "outputs": [],
   "source": [
    "var=\" ... que los últimos treinta años de mi vida los consagré exclusivamente al altruismo \"\n",
    "var.lower()"
   ]
  },
  {
   "cell_type": "code",
   "execution_count": null,
   "metadata": {
    "collapsed": false
   },
   "outputs": [],
   "source": [
    "var2=\" y al efecto hice mi primer testamento en 1894\"\n",
    "var2.upper()"
   ]
  },
  {
   "cell_type": "code",
   "execution_count": null,
   "metadata": {
    "collapsed": false
   },
   "outputs": [],
   "source": [
    "\" ... que los últimos treinta años de mi vida los consagré exclusivamente al altruismo \"+\" y al efecto hice mi primer testamento en 1894\""
   ]
  },
  {
   "cell_type": "code",
   "execution_count": null,
   "metadata": {
    "collapsed": true
   },
   "outputs": [],
   "source": []
  }
 ],
 "metadata": {
  "kernelspec": {
   "display_name": "Python 2",
   "language": "python",
   "name": "python2"
  },
  "language_info": {
   "codemirror_mode": {
    "name": "ipython",
    "version": 2
   },
   "file_extension": ".py",
   "mimetype": "text/x-python",
   "name": "python",
   "nbconvert_exporter": "python",
   "pygments_lexer": "ipython2",
   "version": "2.7.6"
  }
 },
 "nbformat": 4,
 "nbformat_minor": 0
}
